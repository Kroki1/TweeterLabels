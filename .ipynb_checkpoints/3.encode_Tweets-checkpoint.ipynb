{
 "cells": [
  {
   "cell_type": "code",
   "execution_count": 89,
   "id": "8cf405fd",
   "metadata": {},
   "outputs": [
    {
     "name": "stderr",
     "output_type": "stream",
     "text": [
      "C:\\Users\\mats\\AppData\\Roaming\\Python\\Python37\\site-packages\\huggingface_hub\\file_download.py:563: FutureWarning: `cached_download` is the legacy way to download files from the HF hub, please consider upgrading to `hf_hub_download`\n",
      "  FutureWarning,\n"
     ]
    }
   ],
   "source": [
    "from annoy import AnnoyIndex \n",
    "import numpy as np \n",
    "import pandas as pd\n",
    "from sentence_transformers import SentenceTransformer \n",
    "model = SentenceTransformer('sentence-transformers/all-MiniLM-L6-v2')"
   ]
  },
  {
   "cell_type": "code",
   "execution_count": 1,
   "id": "9b6e324e",
   "metadata": {},
   "outputs": [],
   "source": [
    "import sys \n",
    "from tqdm import tqdm \n",
    "import os \n",
    "from random import sample \n",
    "from annoy import AnnoyIndex \n",
    "import matplotlib.pyplot as plt\n",
    "\n",
    "from sklearn.metrics import confusion_matrix, ConfusionMatrixDisplay \n",
    "from sklearn.metrics import accuracy_score, recall_score, precision_score, f1_score \n",
    "from sklearn import metrics "
   ]
  },
  {
   "cell_type": "code",
   "execution_count": 2,
   "id": "38f1f34a",
   "metadata": {},
   "outputs": [],
   "source": [
    "train_file = './Data/train.csv'\n",
    "train_enriched_file = './Data/train_enriched.csv'\n",
    "test_file = './Data/test.csv'\n",
    "test_enriched = './Data/test_enriched.csv'\n",
    "embeddings_dim = 384"
   ]
  },
  {
   "cell_type": "code",
   "execution_count": 3,
   "id": "a894852b",
   "metadata": {},
   "outputs": [],
   "source": [
    "df = pd.read_csv(train_enriched_file, encoding='utf-8')\n",
    "df_test = pd.read_csv(test_file,encoding='utf-8')\n",
    "df_test_enr = pd.read_csv(test_enriched,encoding='utf-8')\n",
    "df_true = pd.read_csv('./Data/submission.csv', encoding='utf-8')"
   ]
  },
  {
   "cell_type": "code",
   "execution_count": 5,
   "id": "748824c4",
   "metadata": {},
   "outputs": [],
   "source": [
    "def encode(text):\n",
    "    emb = model.encode(text, convert_to_tensor=True).tolist()\n",
    "    return emb"
   ]
  },
  {
   "cell_type": "code",
   "execution_count": 6,
   "id": "76eed0fb",
   "metadata": {},
   "outputs": [],
   "source": [
    "def label_tweet(testdf,targetdf):\n",
    "          \n",
    "    tweets = testdf['emb'].to_list()\n",
    "    text = testdf['text'].to_list()\n",
    "    test_ids = testdf['id'].to_list()\n",
    "    df_pred = pd.DataFrame()\n",
    "          \n",
    "    for tweet,tx,t_id in zip(tweets,text,test_ids):\n",
    "              \n",
    "        df_temp = pd.DataFrame()\n",
    "        search_res = annoy_index.get_nns_by_vector(tweet,n=1,search_k=-1,include_distances=False)\n",
    "        d = {t_id: [t_id, tx, search_res[0]]}\n",
    "        df_temp = pd.DataFrame.from_dict(d, orient = 'index', columns=['test_id','text', 'target_id'])\n",
    "        df_pred = pd.concat([df_pred,df_temp])\n",
    "          \n",
    "          \n",
    "    df_pred = df_pred.merge(targetdf[['id','target']], right_on='id', left_on='target_id', how='left')\n",
    "                                  \n",
    "    #mergedf = targetdf[['id','target']]\n",
    "          \n",
    "    return df_pred"
   ]
  },
  {
   "cell_type": "code",
   "execution_count": 7,
   "id": "ace58b78",
   "metadata": {
    "scrolled": true
   },
   "outputs": [
    {
     "data": {
      "text/html": [
       "<div>\n",
       "<style scoped>\n",
       "    .dataframe tbody tr th:only-of-type {\n",
       "        vertical-align: middle;\n",
       "    }\n",
       "\n",
       "    .dataframe tbody tr th {\n",
       "        vertical-align: top;\n",
       "    }\n",
       "\n",
       "    .dataframe thead th {\n",
       "        text-align: right;\n",
       "    }\n",
       "</style>\n",
       "<table border=\"1\" class=\"dataframe\">\n",
       "  <thead>\n",
       "    <tr style=\"text-align: right;\">\n",
       "      <th></th>\n",
       "      <th>id</th>\n",
       "      <th>keyword</th>\n",
       "      <th>text</th>\n",
       "      <th>target</th>\n",
       "      <th>word_count</th>\n",
       "      <th>unique_words_count</th>\n",
       "      <th>Tweet_len</th>\n",
       "      <th>special_chars_count</th>\n",
       "      <th>hash_count</th>\n",
       "      <th>@_count</th>\n",
       "      <th>URL_count</th>\n",
       "      <th>sentiment</th>\n",
       "      <th>subjectivity</th>\n",
       "      <th>dis%</th>\n",
       "      <th>text_clean</th>\n",
       "      <th>keyword_clean</th>\n",
       "      <th>newtext</th>\n",
       "      <th>tx_key</th>\n",
       "    </tr>\n",
       "  </thead>\n",
       "  <tbody>\n",
       "    <tr>\n",
       "      <th>0</th>\n",
       "      <td>1</td>\n",
       "      <td>no_keyword</td>\n",
       "      <td>Our Deeds are the Reason of this #earthquake M...</td>\n",
       "      <td>1</td>\n",
       "      <td>13</td>\n",
       "      <td>13</td>\n",
       "      <td>69</td>\n",
       "      <td>1</td>\n",
       "      <td>1</td>\n",
       "      <td>0</td>\n",
       "      <td>0</td>\n",
       "      <td>0.0</td>\n",
       "      <td>0.0</td>\n",
       "      <td>no_keyword</td>\n",
       "      <td>deed reason #earthquak may allah forgiv</td>\n",
       "      <td>nokeyword</td>\n",
       "      <td>deed reason #earthquak may allah forgiv</td>\n",
       "      <td>Our Deeds are the Reason of this #earthquake M...</td>\n",
       "    </tr>\n",
       "    <tr>\n",
       "      <th>1</th>\n",
       "      <td>4</td>\n",
       "      <td>no_keyword</td>\n",
       "      <td>Forest fire near La Ronge Sask. Canada</td>\n",
       "      <td>1</td>\n",
       "      <td>7</td>\n",
       "      <td>7</td>\n",
       "      <td>38</td>\n",
       "      <td>1</td>\n",
       "      <td>0</td>\n",
       "      <td>0</td>\n",
       "      <td>0</td>\n",
       "      <td>0.1</td>\n",
       "      <td>0.4</td>\n",
       "      <td>no_keyword</td>\n",
       "      <td>forest fire near la rong sask. canada</td>\n",
       "      <td>nokeyword</td>\n",
       "      <td>forest fire near la rong sask. canada</td>\n",
       "      <td>Forest fire near La Ronge Sask. Canada</td>\n",
       "    </tr>\n",
       "  </tbody>\n",
       "</table>\n",
       "</div>"
      ],
      "text/plain": [
       "   id     keyword                                               text  target  \\\n",
       "0   1  no_keyword  Our Deeds are the Reason of this #earthquake M...       1   \n",
       "1   4  no_keyword             Forest fire near La Ronge Sask. Canada       1   \n",
       "\n",
       "   word_count  unique_words_count  Tweet_len  special_chars_count  hash_count  \\\n",
       "0          13                  13         69                    1           1   \n",
       "1           7                   7         38                    1           0   \n",
       "\n",
       "   @_count  URL_count  sentiment  subjectivity        dis%  \\\n",
       "0        0          0        0.0           0.0  no_keyword   \n",
       "1        0          0        0.1           0.4  no_keyword   \n",
       "\n",
       "                                text_clean keyword_clean  \\\n",
       "0  deed reason #earthquak may allah forgiv     nokeyword   \n",
       "1    forest fire near la rong sask. canada     nokeyword   \n",
       "\n",
       "                                    newtext  \\\n",
       "0  deed reason #earthquak may allah forgiv    \n",
       "1    forest fire near la rong sask. canada    \n",
       "\n",
       "                                              tx_key  \n",
       "0  Our Deeds are the Reason of this #earthquake M...  \n",
       "1            Forest fire near La Ronge Sask. Canada   "
      ]
     },
     "execution_count": 7,
     "metadata": {},
     "output_type": "execute_result"
    }
   ],
   "source": [
    "df['tx_key'] = df['text'] + ' ' + df['keyword'].apply(lambda x: x if x != 'no_keyword' else '')\n",
    "df.head(2)"
   ]
  },
  {
   "cell_type": "code",
   "execution_count": 8,
   "id": "89d0af70",
   "metadata": {},
   "outputs": [],
   "source": [
    "df['emb'] = df['text'].apply(lambda t: encode(t))"
   ]
  },
  {
   "cell_type": "code",
   "execution_count": 10,
   "id": "94ff4954",
   "metadata": {
    "scrolled": true
   },
   "outputs": [
    {
     "data": {
      "text/html": [
       "<div>\n",
       "<style scoped>\n",
       "    .dataframe tbody tr th:only-of-type {\n",
       "        vertical-align: middle;\n",
       "    }\n",
       "\n",
       "    .dataframe tbody tr th {\n",
       "        vertical-align: top;\n",
       "    }\n",
       "\n",
       "    .dataframe thead th {\n",
       "        text-align: right;\n",
       "    }\n",
       "</style>\n",
       "<table border=\"1\" class=\"dataframe\">\n",
       "  <thead>\n",
       "    <tr style=\"text-align: right;\">\n",
       "      <th></th>\n",
       "      <th>id</th>\n",
       "      <th>keyword</th>\n",
       "      <th>text</th>\n",
       "      <th>text_clean</th>\n",
       "      <th>keyword_clean</th>\n",
       "      <th>newtext</th>\n",
       "      <th>tx_key</th>\n",
       "    </tr>\n",
       "  </thead>\n",
       "  <tbody>\n",
       "    <tr>\n",
       "      <th>0</th>\n",
       "      <td>0</td>\n",
       "      <td>no_keyword</td>\n",
       "      <td>Just happened a terrible car crash</td>\n",
       "      <td>happen terribl car crash</td>\n",
       "      <td>nokeyword</td>\n",
       "      <td>happen terribl car crash</td>\n",
       "      <td>Just happened a terrible car crash</td>\n",
       "    </tr>\n",
       "    <tr>\n",
       "      <th>1</th>\n",
       "      <td>2</td>\n",
       "      <td>no_keyword</td>\n",
       "      <td>Heard about #earthquake is different cities, s...</td>\n",
       "      <td>heard #earthquak differ cities, stay safe ever...</td>\n",
       "      <td>nokeyword</td>\n",
       "      <td>heard #earthquak differ cities, stay safe ever...</td>\n",
       "      <td>Heard about #earthquake is different cities, s...</td>\n",
       "    </tr>\n",
       "  </tbody>\n",
       "</table>\n",
       "</div>"
      ],
      "text/plain": [
       "   id     keyword                                               text  \\\n",
       "0   0  no_keyword                 Just happened a terrible car crash   \n",
       "1   2  no_keyword  Heard about #earthquake is different cities, s...   \n",
       "\n",
       "                                          text_clean keyword_clean  \\\n",
       "0                           happen terribl car crash     nokeyword   \n",
       "1  heard #earthquak differ cities, stay safe ever...     nokeyword   \n",
       "\n",
       "                                             newtext  \\\n",
       "0                          happen terribl car crash    \n",
       "1  heard #earthquak differ cities, stay safe ever...   \n",
       "\n",
       "                                              tx_key  \n",
       "0                Just happened a terrible car crash   \n",
       "1  Heard about #earthquake is different cities, s...  "
      ]
     },
     "execution_count": 10,
     "metadata": {},
     "output_type": "execute_result"
    }
   ],
   "source": [
    "df_test_enr['tx_key'] = df_test_enr['text'] + ' ' + df_test_enr['keyword'].apply(lambda x: x if x != 'no_keyword' else '')\n",
    "df_test_enr.head(2)"
   ]
  },
  {
   "cell_type": "code",
   "execution_count": 11,
   "id": "f89c3c61",
   "metadata": {},
   "outputs": [],
   "source": [
    "df_test_enr['emb'] = df_test_enr['text'].apply(lambda t: encode(t))"
   ]
  },
  {
   "cell_type": "code",
   "execution_count": 48,
   "id": "7421dcac",
   "metadata": {},
   "outputs": [],
   "source": [
    "df.to_csv('./Data/train_emb.csv', encoding='utf-8', index=False)\n",
    "df_test_enr.to_csv('./Data/test_emb.csv', encoding='utf-8', index=False)"
   ]
  },
  {
   "cell_type": "markdown",
   "id": "8bac59b5",
   "metadata": {},
   "source": [
    "## build annoy"
   ]
  },
  {
   "cell_type": "code",
   "execution_count": 12,
   "id": "6a995a81",
   "metadata": {},
   "outputs": [],
   "source": [
    "embeddings = df['emb'].to_list()\n",
    "tweets_ids = df['id'].to_list()"
   ]
  },
  {
   "cell_type": "code",
   "execution_count": 37,
   "id": "74e6966c",
   "metadata": {},
   "outputs": [],
   "source": [
    "annoy_index = AnnoyIndex(embeddings_dim, 'angular')"
   ]
  },
  {
   "cell_type": "code",
   "execution_count": 38,
   "id": "655c9652",
   "metadata": {},
   "outputs": [],
   "source": [
    "for tweet_id, embedding in zip(tweets_ids,embeddings):\n",
    "    if len(embedding) != embeddings_dim:\n",
    "        print('wrong dim lenght')\n",
    "        continue \n",
    "    annoy_index.add_item(tweet_id,embedding)"
   ]
  },
  {
   "cell_type": "code",
   "execution_count": 39,
   "id": "410d32c8",
   "metadata": {},
   "outputs": [
    {
     "data": {
      "text/plain": [
       "True"
      ]
     },
     "execution_count": 39,
     "metadata": {},
     "output_type": "execute_result"
    }
   ],
   "source": [
    "annoy_index.build(150) #,n_jobs=-1)\n",
    "annoy_index.save('./Data/annoy_index.ann')"
   ]
  },
  {
   "cell_type": "markdown",
   "id": "a46f28ac",
   "metadata": {},
   "source": [
    "## load built annoy"
   ]
  },
  {
   "cell_type": "code",
   "execution_count": 31,
   "id": "37da3172",
   "metadata": {},
   "outputs": [],
   "source": [
    "# annoy_index = AnnoyIndex(embeddings_dim, 'angular')\n",
    "# annoy_index.load('./Data/annoy_index.ann')"
   ]
  },
  {
   "cell_type": "code",
   "execution_count": 36,
   "id": "e15bb06d",
   "metadata": {},
   "outputs": [
    {
     "data": {
      "text/plain": [
       "True"
      ]
     },
     "execution_count": 36,
     "metadata": {},
     "output_type": "execute_result"
    }
   ],
   "source": [
    "#annoy_index.unload()"
   ]
  },
  {
   "cell_type": "markdown",
   "id": "11b6af16",
   "metadata": {},
   "source": [
    "## search for similarities"
   ]
  },
  {
   "cell_type": "code",
   "execution_count": 40,
   "id": "ebcbcefe",
   "metadata": {},
   "outputs": [],
   "source": [
    "df_pred = label_tweet(df_test_enr,df)"
   ]
  },
  {
   "cell_type": "code",
   "execution_count": 41,
   "id": "9b297723",
   "metadata": {
    "scrolled": true
   },
   "outputs": [
    {
     "data": {
      "text/html": [
       "<div>\n",
       "<style scoped>\n",
       "    .dataframe tbody tr th:only-of-type {\n",
       "        vertical-align: middle;\n",
       "    }\n",
       "\n",
       "    .dataframe tbody tr th {\n",
       "        vertical-align: top;\n",
       "    }\n",
       "\n",
       "    .dataframe thead th {\n",
       "        text-align: right;\n",
       "    }\n",
       "</style>\n",
       "<table border=\"1\" class=\"dataframe\">\n",
       "  <thead>\n",
       "    <tr style=\"text-align: right;\">\n",
       "      <th></th>\n",
       "      <th>test_id</th>\n",
       "      <th>text</th>\n",
       "      <th>target_id</th>\n",
       "      <th>id</th>\n",
       "      <th>target</th>\n",
       "    </tr>\n",
       "  </thead>\n",
       "  <tbody>\n",
       "    <tr>\n",
       "      <th>0</th>\n",
       "      <td>0</td>\n",
       "      <td>Just happened a terrible car crash</td>\n",
       "      <td>2645</td>\n",
       "      <td>2645</td>\n",
       "      <td>0</td>\n",
       "    </tr>\n",
       "    <tr>\n",
       "      <th>1</th>\n",
       "      <td>2</td>\n",
       "      <td>Heard about #earthquake is different cities, s...</td>\n",
       "      <td>4397</td>\n",
       "      <td>4397</td>\n",
       "      <td>1</td>\n",
       "    </tr>\n",
       "    <tr>\n",
       "      <th>2</th>\n",
       "      <td>3</td>\n",
       "      <td>there is a forest fire at spot pond, geese are...</td>\n",
       "      <td>10481</td>\n",
       "      <td>10481</td>\n",
       "      <td>1</td>\n",
       "    </tr>\n",
       "    <tr>\n",
       "      <th>3</th>\n",
       "      <td>9</td>\n",
       "      <td>Apocalypse lighting. #Spokane #wildfires</td>\n",
       "      <td>10519</td>\n",
       "      <td>10519</td>\n",
       "      <td>1</td>\n",
       "    </tr>\n",
       "    <tr>\n",
       "      <th>4</th>\n",
       "      <td>11</td>\n",
       "      <td>Typhoon Soudelor kills 28 in China and Taiwan</td>\n",
       "      <td>2991</td>\n",
       "      <td>2991</td>\n",
       "      <td>1</td>\n",
       "    </tr>\n",
       "  </tbody>\n",
       "</table>\n",
       "</div>"
      ],
      "text/plain": [
       "   test_id                                               text  target_id  \\\n",
       "0        0                 Just happened a terrible car crash       2645   \n",
       "1        2  Heard about #earthquake is different cities, s...       4397   \n",
       "2        3  there is a forest fire at spot pond, geese are...      10481   \n",
       "3        9           Apocalypse lighting. #Spokane #wildfires      10519   \n",
       "4       11      Typhoon Soudelor kills 28 in China and Taiwan       2991   \n",
       "\n",
       "      id  target  \n",
       "0   2645       0  \n",
       "1   4397       1  \n",
       "2  10481       1  \n",
       "3  10519       1  \n",
       "4   2991       1  "
      ]
     },
     "execution_count": 41,
     "metadata": {},
     "output_type": "execute_result"
    }
   ],
   "source": [
    "df_pred.head()"
   ]
  },
  {
   "cell_type": "markdown",
   "id": "e8e839f6",
   "metadata": {},
   "source": [
    "## label single tweet"
   ]
  },
  {
   "cell_type": "code",
   "execution_count": 52,
   "id": "1331e201",
   "metadata": {},
   "outputs": [],
   "source": [
    "# from sentence_transformers import SentenceTransformer \n",
    "# model = SentenceTransformer('sentence-transformers/all-MiniLM-L6-v2')"
   ]
  },
  {
   "cell_type": "code",
   "execution_count": null,
   "id": "0b3cab1c",
   "metadata": {},
   "outputs": [],
   "source": [
    "annoy_index = AnnoyIndex(embeddings_dim, 'angular')\n",
    "annoy_index.load('./Data/annoy_index.ann')"
   ]
  },
  {
   "cell_type": "code",
   "execution_count": 84,
   "id": "4be213bb",
   "metadata": {},
   "outputs": [],
   "source": [
    "def label_tweets(tweet, annoy):\n",
    "    \n",
    "    target = pd.read_csv('./Data/train.csv', encoding='utf-8', usecols = ['id', 'target'])\n",
    "    emb_tweet = model.encode(tweet, convert_to_tensor=True).tolist()\n",
    "    label_id = annoy.get_nns_by_vector(emb_tweet,n=1,search_k=-1,include_distances=False)\n",
    "    \n",
    "    label = target.loc[target['id']==label_id[0], ['target']].values[0][0]\n",
    "    \n",
    "    return label"
   ]
  },
  {
   "cell_type": "code",
   "execution_count": 88,
   "id": "8f64a6ea",
   "metadata": {},
   "outputs": [
    {
     "name": "stdout",
     "output_type": "stream",
     "text": [
      "Enter a tweet text: Yasir Al Shahrani's game by numbers vs. Argentina:  ◉ Most clearances (6) ◉ Most interceptions (6) ◉ Most offside traps (4) ◎ 5 x possession won ◎ 3 tackles made ◎ 3 duels won ◎ 0 x dribbled past  He put his body on the line for his country.  #FIFAWorldCup\n",
      "0\n",
      "Enter a tweet text: ⛔A terrible earthquake in Indonesia killed 162 people. ⛔Today, earthquakes with a magnitude of 5.6 destroyed about 2,000 homes, more than 700 people were injured, and evacuations continue. #Earthquake #Destroyed\n",
      "1\n",
      "Enter a tweet text: earthquake\n",
      "1\n",
      "Enter a tweet text: evacuations\n",
      "1\n",
      "Enter a tweet text: thunderstorm\n",
      "0\n",
      "Enter a tweet text: tornado\n",
      "1\n",
      "Enter a tweet text: magnitude\n",
      "0\n",
      "Enter a tweet text: destroyed\n",
      "0\n",
      "Enter a tweet text: car crash\n",
      "1\n",
      "Enter a tweet text: fire alarm\n",
      "1\n",
      "Enter a tweet text: 700 people were sick\n",
      "1\n",
      "Enter a tweet text: quit\n"
     ]
    }
   ],
   "source": [
    "while True:\n",
    "    i = input(\"Enter a tweet text: \")\n",
    "\n",
    "    if i == \"quit\":\n",
    "        break\n",
    "    else:\n",
    "          print(label_tweets(i, annoy_index))  \n",
    "            \n",
    "# 0 not a disaster\n",
    "# 1     a disaster"
   ]
  },
  {
   "cell_type": "markdown",
   "id": "f41ac24e",
   "metadata": {},
   "source": [
    "## <font color = 'dark green'> metrics "
   ]
  },
  {
   "cell_type": "code",
   "execution_count": 42,
   "id": "7028a9f5",
   "metadata": {},
   "outputs": [],
   "source": [
    "y_pred = df_pred['target']\n",
    "y = df_true['target']"
   ]
  },
  {
   "cell_type": "code",
   "execution_count": 43,
   "id": "b3e62d28",
   "metadata": {},
   "outputs": [
    {
     "name": "stdout",
     "output_type": "stream",
     "text": [
      "Accuracy  0.7707631014403923\n",
      "F1        0.7676616176616177\n",
      "Precision 0.7665832965914101\n",
      "Recall    0.7697418901837476\n"
     ]
    }
   ],
   "source": [
    "accuracy = accuracy_score(y,y_pred)\n",
    "f1 = f1_score(y,y_pred,average='macro')\n",
    "precision = precision_score(y,y_pred,average='macro')\n",
    "recall = recall_score(y,y_pred,average='macro')\n",
    "\n",
    "print(f'Accuracy  {accuracy}')\n",
    "print(f'F1        {f1}')\n",
    "print(f'Precision {precision}')\n",
    "print(f'Recall    {recall}')"
   ]
  },
  {
   "cell_type": "code",
   "execution_count": 44,
   "id": "1a2b1523",
   "metadata": {},
   "outputs": [
    {
     "name": "stdout",
     "output_type": "stream",
     "text": [
      "              precision    recall  f1-score   support\n",
      "\n",
      "           0       0.81      0.78      0.79      1861\n",
      "           1       0.72      0.76      0.74      1402\n",
      "\n",
      "    accuracy                           0.77      3263\n",
      "   macro avg       0.77      0.77      0.77      3263\n",
      "weighted avg       0.77      0.77      0.77      3263\n",
      "\n"
     ]
    }
   ],
   "source": [
    "print(metrics.classification_report(y, y_pred))"
   ]
  },
  {
   "cell_type": "code",
   "execution_count": 45,
   "id": "8277c751",
   "metadata": {},
   "outputs": [
    {
     "data": {
      "image/png": "[encoded data removed]",
      "text/plain": [
       "<Figure size 432x288 with 2 Axes>"
      ]
     },
     "metadata": {
      "needs_background": "light"
     },
     "output_type": "display_data"
    }
   ],
   "source": [
    "cm = confusion_matrix(y, y_pred)\n",
    "disp = ConfusionMatrixDisplay(confusion_matrix=cm)\n",
    "disp.plot()\n",
    "plt.show()"
   ]
  },
  {
   "cell_type": "code",
   "execution_count": 46,
   "id": "488c4923",
   "metadata": {},
   "outputs": [
    {
     "data": {
      "image/png": "[encoded data removed]",
      "text/plain": [
       "<Figure size 432x288 with 2 Axes>"
      ]
     },
     "metadata": {
      "needs_background": "light"
     },
     "output_type": "display_data"
    }
   ],
   "source": [
    "cm = confusion_matrix(y, y_pred, normalize='all')\n",
    "disp = ConfusionMatrixDisplay(confusion_matrix=cm)\n",
    "disp.plot()\n",
    "plt.show()"
   ]
  },
  {
   "cell_type": "code",
   "execution_count": null,
   "id": "a61af8ad",
   "metadata": {},
   "outputs": [],
   "source": []
  }
 ],
 "metadata": {
  "kernelspec": {
   "display_name": "Python 3 (ipykernel)",
   "language": "python",
   "name": "python3"
  },
  "language_info": {
   "codemirror_mode": {
    "name": "ipython",
    "version": 3
   },
   "file_extension": ".py",
   "mimetype": "text/x-python",
   "name": "python",
   "nbconvert_exporter": "python",
   "pygments_lexer": "ipython3",
   "version": "3.7.4"
  }
 },
 "nbformat": 4,
 "nbformat_minor": 5
}
