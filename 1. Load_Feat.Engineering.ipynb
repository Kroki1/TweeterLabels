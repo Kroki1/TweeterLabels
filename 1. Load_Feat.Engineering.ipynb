{
 "cells": [
  {
   "cell_type": "code",
   "execution_count": null,
   "id": "c331925d",
   "metadata": {},
   "outputs": [],
   "source": [
    "#!pip install textblob"
   ]
  },
  {
   "cell_type": "code",
   "execution_count": 1,
   "id": "3d581beb",
   "metadata": {},
   "outputs": [],
   "source": [
    "import pandas as pd\n",
    "import os\n",
    "import string\n",
    "from textblob import TextBlob\n",
    "from utils.cleaning_tools import *"
   ]
  },
  {
   "cell_type": "code",
   "execution_count": 2,
   "id": "ddd9da18",
   "metadata": {},
   "outputs": [],
   "source": [
    "train_file = './Data/train.csv'\n",
    "test_file = './Data/test.csv'\n",
    "train_enriched_file = './Data/train_enriched.csv'\n",
    "test_enriched_file = './Data/test_enriched.csv'\n",
    "special_char = '~:;}]{[!@#$%^&*()_+=-><,.|\\/?\\'\\\"'\n",
    "hash_char = '#'\n",
    "at_char = '@'"
   ]
  },
  {
   "cell_type": "code",
   "execution_count": 3,
   "id": "e9ea444a",
   "metadata": {
    "scrolled": false
   },
   "outputs": [
    {
     "data": {
      "text/html": [
       "<div>\n",
       "<style scoped>\n",
       "    .dataframe tbody tr th:only-of-type {\n",
       "        vertical-align: middle;\n",
       "    }\n",
       "\n",
       "    .dataframe tbody tr th {\n",
       "        vertical-align: top;\n",
       "    }\n",
       "\n",
       "    .dataframe thead th {\n",
       "        text-align: right;\n",
       "    }\n",
       "</style>\n",
       "<table border=\"1\" class=\"dataframe\">\n",
       "  <thead>\n",
       "    <tr style=\"text-align: right;\">\n",
       "      <th></th>\n",
       "      <th>id</th>\n",
       "      <th>keyword</th>\n",
       "      <th>location</th>\n",
       "      <th>text</th>\n",
       "      <th>target</th>\n",
       "    </tr>\n",
       "  </thead>\n",
       "  <tbody>\n",
       "    <tr>\n",
       "      <th>0</th>\n",
       "      <td>1</td>\n",
       "      <td>NaN</td>\n",
       "      <td>NaN</td>\n",
       "      <td>Our Deeds are the Reason of this #earthquake M...</td>\n",
       "      <td>1</td>\n",
       "    </tr>\n",
       "    <tr>\n",
       "      <th>1</th>\n",
       "      <td>4</td>\n",
       "      <td>NaN</td>\n",
       "      <td>NaN</td>\n",
       "      <td>Forest fire near La Ronge Sask. Canada</td>\n",
       "      <td>1</td>\n",
       "    </tr>\n",
       "    <tr>\n",
       "      <th>2</th>\n",
       "      <td>5</td>\n",
       "      <td>NaN</td>\n",
       "      <td>NaN</td>\n",
       "      <td>All residents asked to 'shelter in place' are ...</td>\n",
       "      <td>1</td>\n",
       "    </tr>\n",
       "    <tr>\n",
       "      <th>3</th>\n",
       "      <td>6</td>\n",
       "      <td>NaN</td>\n",
       "      <td>NaN</td>\n",
       "      <td>13,000 people receive #wildfires evacuation or...</td>\n",
       "      <td>1</td>\n",
       "    </tr>\n",
       "    <tr>\n",
       "      <th>4</th>\n",
       "      <td>7</td>\n",
       "      <td>NaN</td>\n",
       "      <td>NaN</td>\n",
       "      <td>Just got sent this photo from Ruby #Alaska as ...</td>\n",
       "      <td>1</td>\n",
       "    </tr>\n",
       "  </tbody>\n",
       "</table>\n",
       "</div>"
      ],
      "text/plain": [
       "   id keyword location                                               text  \\\n",
       "0   1     NaN      NaN  Our Deeds are the Reason of this #earthquake M...   \n",
       "1   4     NaN      NaN             Forest fire near La Ronge Sask. Canada   \n",
       "2   5     NaN      NaN  All residents asked to 'shelter in place' are ...   \n",
       "3   6     NaN      NaN  13,000 people receive #wildfires evacuation or...   \n",
       "4   7     NaN      NaN  Just got sent this photo from Ruby #Alaska as ...   \n",
       "\n",
       "   target  \n",
       "0       1  \n",
       "1       1  \n",
       "2       1  \n",
       "3       1  \n",
       "4       1  "
      ]
     },
     "execution_count": 3,
     "metadata": {},
     "output_type": "execute_result"
    }
   ],
   "source": [
    "train_df = pd.read_csv(train_file,encoding='utf-8')\n",
    "train_df.head()"
   ]
  },
  {
   "cell_type": "markdown",
   "id": "fbc8439e",
   "metadata": {},
   "source": [
    "### add features"
   ]
  },
  {
   "cell_type": "code",
   "execution_count": 4,
   "id": "dea8f736",
   "metadata": {},
   "outputs": [],
   "source": [
    "def add_features(df):\n",
    "    df['word_count'] = df['text'].apply(lambda t: len(t.split()))\n",
    "    df['unique_words_count'] = df['text'].apply(lambda t: len(set(t.split())))\n",
    "    df['Tweet_len'] = df['text'].apply(lambda t: len(t))\n",
    "    df['special_chars_count'] = df['text'].apply(lambda t: len([c for c in str(t) if c in special_char]))\n",
    "    #df['punctuation_count'] = df['text'].apply(lambda t: len([c for c in str(t) if c in string.punctuation]))\n",
    "    df['hash_count'] = df['text'].apply(lambda t: len([c for c in str(t) if c in hash_char]))\n",
    "    df['@_count'] = df['text'].apply(lambda t: len([c for c in str(t) if c in at_char]))\n",
    "    df['URL_count']  = df['text'].apply(lambda t: len([w for w in str(t).lower().split() if 'http' in w or 'https' in w]))\n",
    "    df['sentiment'] = df['text'].apply(lambda t: TextBlob(t).sentiment.polarity)\n",
    "    df['subjectivity'] = df['text'].apply(lambda t: TextBlob(t).sentiment.subjectivity)\n",
    "    \n",
    "    return df"
   ]
  },
  {
   "cell_type": "code",
   "execution_count": 5,
   "id": "19ecfaa8",
   "metadata": {},
   "outputs": [],
   "source": [
    "# The polarity score is a float within the range [-1.0, 1.0], where -1 is very negative and +1 very positive\n",
    "# The subjectivity is a float within the range [0.0, 1.0], where 0.0 is very objective and 1.0 is very subjective."
   ]
  },
  {
   "cell_type": "code",
   "execution_count": 6,
   "id": "f80eccbf",
   "metadata": {},
   "outputs": [
    {
     "data": {
      "text/html": [
       "<div>\n",
       "<style scoped>\n",
       "    .dataframe tbody tr th:only-of-type {\n",
       "        vertical-align: middle;\n",
       "    }\n",
       "\n",
       "    .dataframe tbody tr th {\n",
       "        vertical-align: top;\n",
       "    }\n",
       "\n",
       "    .dataframe thead th {\n",
       "        text-align: right;\n",
       "    }\n",
       "</style>\n",
       "<table border=\"1\" class=\"dataframe\">\n",
       "  <thead>\n",
       "    <tr style=\"text-align: right;\">\n",
       "      <th></th>\n",
       "      <th>id</th>\n",
       "      <th>keyword</th>\n",
       "      <th>location</th>\n",
       "      <th>text</th>\n",
       "      <th>target</th>\n",
       "      <th>word_count</th>\n",
       "      <th>unique_words_count</th>\n",
       "      <th>Tweet_len</th>\n",
       "      <th>special_chars_count</th>\n",
       "      <th>hash_count</th>\n",
       "      <th>@_count</th>\n",
       "      <th>URL_count</th>\n",
       "      <th>sentiment</th>\n",
       "      <th>subjectivity</th>\n",
       "    </tr>\n",
       "  </thead>\n",
       "  <tbody>\n",
       "    <tr>\n",
       "      <th>7272</th>\n",
       "      <td>10411</td>\n",
       "      <td>whirlwind</td>\n",
       "      <td>140920-21 &amp; 150718-19 BEIJING</td>\n",
       "      <td>{INFO} Baekhyun and Suho will be attending the...</td>\n",
       "      <td>0</td>\n",
       "      <td>17</td>\n",
       "      <td>17</td>\n",
       "      <td>124</td>\n",
       "      <td>8</td>\n",
       "      <td>0</td>\n",
       "      <td>0</td>\n",
       "      <td>1</td>\n",
       "      <td>0.0</td>\n",
       "      <td>0.0</td>\n",
       "    </tr>\n",
       "  </tbody>\n",
       "</table>\n",
       "</div>"
      ],
      "text/plain": [
       "         id    keyword                       location  \\\n",
       "7272  10411  whirlwind  140920-21 & 150718-19 BEIJING   \n",
       "\n",
       "                                                   text  target  word_count  \\\n",
       "7272  {INFO} Baekhyun and Suho will be attending the...       0          17   \n",
       "\n",
       "      unique_words_count  Tweet_len  special_chars_count  hash_count  @_count  \\\n",
       "7272                  17        124                    8           0        0   \n",
       "\n",
       "      URL_count  sentiment  subjectivity  \n",
       "7272          1        0.0           0.0  "
      ]
     },
     "execution_count": 6,
     "metadata": {},
     "output_type": "execute_result"
    }
   ],
   "source": [
    "train_df = add_features(train_df)\n",
    "train_df.sample()"
   ]
  },
  {
   "cell_type": "code",
   "execution_count": 7,
   "id": "8cfbb429",
   "metadata": {},
   "outputs": [
    {
     "data": {
      "text/html": [
       "<div>\n",
       "<style scoped>\n",
       "    .dataframe tbody tr th:only-of-type {\n",
       "        vertical-align: middle;\n",
       "    }\n",
       "\n",
       "    .dataframe tbody tr th {\n",
       "        vertical-align: top;\n",
       "    }\n",
       "\n",
       "    .dataframe thead th {\n",
       "        text-align: right;\n",
       "    }\n",
       "</style>\n",
       "<table border=\"1\" class=\"dataframe\">\n",
       "  <thead>\n",
       "    <tr style=\"text-align: right;\">\n",
       "      <th>target</th>\n",
       "      <th>keyword</th>\n",
       "      <th>0</th>\n",
       "      <th>1</th>\n",
       "      <th>sum</th>\n",
       "      <th>dis%</th>\n",
       "    </tr>\n",
       "  </thead>\n",
       "  <tbody>\n",
       "    <tr>\n",
       "      <th>9</th>\n",
       "      <td>army</td>\n",
       "      <td>29.0</td>\n",
       "      <td>5.0</td>\n",
       "      <td>34.0</td>\n",
       "      <td>0.147059</td>\n",
       "    </tr>\n",
       "    <tr>\n",
       "      <th>220</th>\n",
       "      <td>wrecked</td>\n",
       "      <td>36.0</td>\n",
       "      <td>3.0</td>\n",
       "      <td>39.0</td>\n",
       "      <td>0.076923</td>\n",
       "    </tr>\n",
       "    <tr>\n",
       "      <th>187</th>\n",
       "      <td>suicide%20bombing</td>\n",
       "      <td>1.0</td>\n",
       "      <td>32.0</td>\n",
       "      <td>33.0</td>\n",
       "      <td>0.969697</td>\n",
       "    </tr>\n",
       "    <tr>\n",
       "      <th>193</th>\n",
       "      <td>terrorist</td>\n",
       "      <td>8.0</td>\n",
       "      <td>23.0</td>\n",
       "      <td>31.0</td>\n",
       "      <td>0.741935</td>\n",
       "    </tr>\n",
       "    <tr>\n",
       "      <th>210</th>\n",
       "      <td>weapon</td>\n",
       "      <td>25.0</td>\n",
       "      <td>14.0</td>\n",
       "      <td>39.0</td>\n",
       "      <td>0.358974</td>\n",
       "    </tr>\n",
       "  </tbody>\n",
       "</table>\n",
       "</div>"
      ],
      "text/plain": [
       "target            keyword     0     1   sum      dis%\n",
       "9                    army  29.0   5.0  34.0  0.147059\n",
       "220               wrecked  36.0   3.0  39.0  0.076923\n",
       "187     suicide%20bombing   1.0  32.0  33.0  0.969697\n",
       "193             terrorist   8.0  23.0  31.0  0.741935\n",
       "210                weapon  25.0  14.0  39.0  0.358974"
      ]
     },
     "execution_count": 7,
     "metadata": {},
     "output_type": "execute_result"
    }
   ],
   "source": [
    "table = pd.pivot_table(train_df, index='keyword', columns='target',values='id', aggfunc='count')\n",
    "table.reset_index(inplace=True)\n",
    "table[0].fillna(0, inplace=True)\n",
    "table[1].fillna(0, inplace=True) \n",
    "table['sum'] = (table[0] + table[1])\n",
    "table['dis%'] = table[1]/(table[0] + table[1])\n",
    "table.sample(5)"
   ]
  },
  {
   "cell_type": "code",
   "execution_count": 8,
   "id": "aca8fe97",
   "metadata": {},
   "outputs": [
    {
     "data": {
      "text/html": [
       "<div>\n",
       "<style scoped>\n",
       "    .dataframe tbody tr th:only-of-type {\n",
       "        vertical-align: middle;\n",
       "    }\n",
       "\n",
       "    .dataframe tbody tr th {\n",
       "        vertical-align: top;\n",
       "    }\n",
       "\n",
       "    .dataframe thead th {\n",
       "        text-align: right;\n",
       "    }\n",
       "</style>\n",
       "<table border=\"1\" class=\"dataframe\">\n",
       "  <thead>\n",
       "    <tr style=\"text-align: right;\">\n",
       "      <th></th>\n",
       "      <th>id</th>\n",
       "      <th>keyword</th>\n",
       "      <th>location</th>\n",
       "      <th>text</th>\n",
       "      <th>target</th>\n",
       "      <th>word_count</th>\n",
       "      <th>unique_words_count</th>\n",
       "      <th>Tweet_len</th>\n",
       "      <th>special_chars_count</th>\n",
       "      <th>hash_count</th>\n",
       "      <th>@_count</th>\n",
       "      <th>URL_count</th>\n",
       "      <th>sentiment</th>\n",
       "      <th>subjectivity</th>\n",
       "      <th>dis%</th>\n",
       "    </tr>\n",
       "  </thead>\n",
       "  <tbody>\n",
       "    <tr>\n",
       "      <th>4467</th>\n",
       "      <td>6350</td>\n",
       "      <td>hostages</td>\n",
       "      <td>NaN</td>\n",
       "      <td>'Well guess what young girls. You aren't damse...</td>\n",
       "      <td>0</td>\n",
       "      <td>20</td>\n",
       "      <td>18</td>\n",
       "      <td>133</td>\n",
       "      <td>12</td>\n",
       "      <td>0</td>\n",
       "      <td>0</td>\n",
       "      <td>1</td>\n",
       "      <td>0.1</td>\n",
       "      <td>0.4</td>\n",
       "      <td>0.72973</td>\n",
       "    </tr>\n",
       "  </tbody>\n",
       "</table>\n",
       "</div>"
      ],
      "text/plain": [
       "        id   keyword location  \\\n",
       "4467  6350  hostages      NaN   \n",
       "\n",
       "                                                   text  target  word_count  \\\n",
       "4467  'Well guess what young girls. You aren't damse...       0          20   \n",
       "\n",
       "      unique_words_count  Tweet_len  special_chars_count  hash_count  @_count  \\\n",
       "4467                  18        133                   12           0        0   \n",
       "\n",
       "      URL_count  sentiment  subjectivity     dis%  \n",
       "4467          1        0.1           0.4  0.72973  "
      ]
     },
     "execution_count": 8,
     "metadata": {},
     "output_type": "execute_result"
    }
   ],
   "source": [
    "train_df = train_df.merge(table[['keyword','dis%']], on='keyword', how='left')\n",
    "train_df.sample()"
   ]
  },
  {
   "cell_type": "markdown",
   "id": "a38d912a",
   "metadata": {},
   "source": [
    "### drop duplicates"
   ]
  },
  {
   "cell_type": "code",
   "execution_count": 9,
   "id": "4fd3a95a",
   "metadata": {},
   "outputs": [
    {
     "data": {
      "text/plain": [
       "7613"
      ]
     },
     "execution_count": 9,
     "metadata": {},
     "output_type": "execute_result"
    }
   ],
   "source": [
    "len(train_df)"
   ]
  },
  {
   "cell_type": "code",
   "execution_count": 10,
   "id": "78c57cbd",
   "metadata": {},
   "outputs": [
    {
     "data": {
      "text/plain": [
       "7503"
      ]
     },
     "execution_count": 10,
     "metadata": {},
     "output_type": "execute_result"
    }
   ],
   "source": [
    "train_df.drop_duplicates(subset=['text'],inplace=True)\n",
    "train_df.reset_index(drop=True,inplace=True)\n",
    "len(train_df)"
   ]
  },
  {
   "cell_type": "markdown",
   "id": "05e5b534",
   "metadata": {},
   "source": [
    "### delete location column"
   ]
  },
  {
   "cell_type": "code",
   "execution_count": 11,
   "id": "fe5158ba",
   "metadata": {},
   "outputs": [],
   "source": [
    "train_df.drop(columns=['location'],inplace=True)"
   ]
  },
  {
   "cell_type": "markdown",
   "id": "bd730e58",
   "metadata": {},
   "source": [
    "### replace NaN with 'no_keyword'"
   ]
  },
  {
   "cell_type": "code",
   "execution_count": 12,
   "id": "49c172f7",
   "metadata": {},
   "outputs": [],
   "source": [
    "train_df.fillna('no_keyword', inplace=True)"
   ]
  },
  {
   "cell_type": "markdown",
   "id": "84fc3b6f",
   "metadata": {},
   "source": [
    "### cleaning"
   ]
  },
  {
   "cell_type": "code",
   "execution_count": 13,
   "id": "5bd4b9bf",
   "metadata": {},
   "outputs": [],
   "source": [
    "#ToDo: how to write it correctly so it return df? \n",
    "#def clean_test(df,columns: list) -> DataFrame():\n",
    "\n",
    "def clean_text(df,columns: list):    \n",
    "    for item in columns:\n",
    "        new_head = str(item)+'_clean'\n",
    "        df[new_head] = df[item].apply(lambda x: str(x).lower())\n",
    "        \n",
    "        df[new_head] = df[new_head].replace(repl_dict, regex=True)\n",
    "        df[new_head] = df[new_head].apply(lambda x: str(x).strip())\n",
    "        df[new_head] = df[new_head].apply(lambda x: remove_http(x))\n",
    "        df[new_head] = df[new_head].apply(lambda x: remove_stopwords(x))\n",
    "        df[new_head] = df[new_head].apply(lambda x: text_stemmer(x))\n",
    "        df[new_head] = df[new_head].apply(lambda x: re.sub(\"@[A-Za-z0-9]+\",\"\", x))\n",
    "        \n",
    "        slang_dict = pd.read_csv(\"./Data/twitterSlang.csv\", encoding='utf-8')\n",
    "        slang_dict = dict(zip(slang_dict[\"abbr\"], slang_dict[\"full_word\"]))\n",
    "        df[new_head] = df[new_head].replace(slang_dict)\n",
    "        \n",
    "    return df\n",
    "        "
   ]
  },
  {
   "cell_type": "code",
   "execution_count": 14,
   "id": "6d83298c",
   "metadata": {
    "scrolled": true
   },
   "outputs": [
    {
     "data": {
      "text/html": [
       "<div>\n",
       "<style scoped>\n",
       "    .dataframe tbody tr th:only-of-type {\n",
       "        vertical-align: middle;\n",
       "    }\n",
       "\n",
       "    .dataframe tbody tr th {\n",
       "        vertical-align: top;\n",
       "    }\n",
       "\n",
       "    .dataframe thead th {\n",
       "        text-align: right;\n",
       "    }\n",
       "</style>\n",
       "<table border=\"1\" class=\"dataframe\">\n",
       "  <thead>\n",
       "    <tr style=\"text-align: right;\">\n",
       "      <th></th>\n",
       "      <th>id</th>\n",
       "      <th>keyword</th>\n",
       "      <th>text</th>\n",
       "      <th>target</th>\n",
       "      <th>word_count</th>\n",
       "      <th>unique_words_count</th>\n",
       "      <th>Tweet_len</th>\n",
       "      <th>special_chars_count</th>\n",
       "      <th>hash_count</th>\n",
       "      <th>@_count</th>\n",
       "      <th>URL_count</th>\n",
       "      <th>sentiment</th>\n",
       "      <th>subjectivity</th>\n",
       "      <th>dis%</th>\n",
       "      <th>text_clean</th>\n",
       "      <th>keyword_clean</th>\n",
       "    </tr>\n",
       "  </thead>\n",
       "  <tbody>\n",
       "    <tr>\n",
       "      <th>0</th>\n",
       "      <td>1</td>\n",
       "      <td>no_keyword</td>\n",
       "      <td>Our Deeds are the Reason of this #earthquake M...</td>\n",
       "      <td>1</td>\n",
       "      <td>13</td>\n",
       "      <td>13</td>\n",
       "      <td>69</td>\n",
       "      <td>1</td>\n",
       "      <td>1</td>\n",
       "      <td>0</td>\n",
       "      <td>0</td>\n",
       "      <td>0.00000</td>\n",
       "      <td>0.0000</td>\n",
       "      <td>no_keyword</td>\n",
       "      <td>deed reason #earthquak may allah forgiv</td>\n",
       "      <td>nokeyword</td>\n",
       "    </tr>\n",
       "    <tr>\n",
       "      <th>1</th>\n",
       "      <td>4</td>\n",
       "      <td>no_keyword</td>\n",
       "      <td>Forest fire near La Ronge Sask. Canada</td>\n",
       "      <td>1</td>\n",
       "      <td>7</td>\n",
       "      <td>7</td>\n",
       "      <td>38</td>\n",
       "      <td>1</td>\n",
       "      <td>0</td>\n",
       "      <td>0</td>\n",
       "      <td>0</td>\n",
       "      <td>0.10000</td>\n",
       "      <td>0.4000</td>\n",
       "      <td>no_keyword</td>\n",
       "      <td>forest fire near la rong sask. canada</td>\n",
       "      <td>nokeyword</td>\n",
       "    </tr>\n",
       "    <tr>\n",
       "      <th>2</th>\n",
       "      <td>5</td>\n",
       "      <td>no_keyword</td>\n",
       "      <td>All residents asked to 'shelter in place' are ...</td>\n",
       "      <td>1</td>\n",
       "      <td>22</td>\n",
       "      <td>20</td>\n",
       "      <td>133</td>\n",
       "      <td>3</td>\n",
       "      <td>0</td>\n",
       "      <td>0</td>\n",
       "      <td>0</td>\n",
       "      <td>-0.01875</td>\n",
       "      <td>0.3875</td>\n",
       "      <td>no_keyword</td>\n",
       "      <td>resid ask 'shelter place' notifi officers. eva...</td>\n",
       "      <td>nokeyword</td>\n",
       "    </tr>\n",
       "  </tbody>\n",
       "</table>\n",
       "</div>"
      ],
      "text/plain": [
       "   id     keyword                                               text  target  \\\n",
       "0   1  no_keyword  Our Deeds are the Reason of this #earthquake M...       1   \n",
       "1   4  no_keyword             Forest fire near La Ronge Sask. Canada       1   \n",
       "2   5  no_keyword  All residents asked to 'shelter in place' are ...       1   \n",
       "\n",
       "   word_count  unique_words_count  Tweet_len  special_chars_count  hash_count  \\\n",
       "0          13                  13         69                    1           1   \n",
       "1           7                   7         38                    1           0   \n",
       "2          22                  20        133                    3           0   \n",
       "\n",
       "   @_count  URL_count  sentiment  subjectivity        dis%  \\\n",
       "0        0          0    0.00000        0.0000  no_keyword   \n",
       "1        0          0    0.10000        0.4000  no_keyword   \n",
       "2        0          0   -0.01875        0.3875  no_keyword   \n",
       "\n",
       "                                          text_clean keyword_clean  \n",
       "0            deed reason #earthquak may allah forgiv     nokeyword  \n",
       "1              forest fire near la rong sask. canada     nokeyword  \n",
       "2  resid ask 'shelter place' notifi officers. eva...     nokeyword  "
      ]
     },
     "execution_count": 14,
     "metadata": {},
     "output_type": "execute_result"
    }
   ],
   "source": [
    "train_df = clean_text(train_df,['text','keyword'])\n",
    "train_df.head(3)"
   ]
  },
  {
   "cell_type": "code",
   "execution_count": 15,
   "id": "09ab61ca",
   "metadata": {
    "scrolled": true
   },
   "outputs": [],
   "source": [
    "train_df['newtext'] = train_df['text_clean'] + ' ' + train_df['keyword_clean'].apply(lambda x: x if x != 'nokeyword' else '')"
   ]
  },
  {
   "cell_type": "code",
   "execution_count": 16,
   "id": "b625a13c",
   "metadata": {},
   "outputs": [
    {
     "data": {
      "text/html": [
       "<div>\n",
       "<style scoped>\n",
       "    .dataframe tbody tr th:only-of-type {\n",
       "        vertical-align: middle;\n",
       "    }\n",
       "\n",
       "    .dataframe tbody tr th {\n",
       "        vertical-align: top;\n",
       "    }\n",
       "\n",
       "    .dataframe thead th {\n",
       "        text-align: right;\n",
       "    }\n",
       "</style>\n",
       "<table border=\"1\" class=\"dataframe\">\n",
       "  <thead>\n",
       "    <tr style=\"text-align: right;\">\n",
       "      <th></th>\n",
       "      <th>id</th>\n",
       "      <th>keyword</th>\n",
       "      <th>text</th>\n",
       "      <th>target</th>\n",
       "      <th>word_count</th>\n",
       "      <th>unique_words_count</th>\n",
       "      <th>Tweet_len</th>\n",
       "      <th>special_chars_count</th>\n",
       "      <th>hash_count</th>\n",
       "      <th>@_count</th>\n",
       "      <th>URL_count</th>\n",
       "      <th>sentiment</th>\n",
       "      <th>subjectivity</th>\n",
       "      <th>dis%</th>\n",
       "      <th>text_clean</th>\n",
       "      <th>keyword_clean</th>\n",
       "      <th>newtext</th>\n",
       "    </tr>\n",
       "  </thead>\n",
       "  <tbody>\n",
       "    <tr>\n",
       "      <th>547</th>\n",
       "      <td>800</td>\n",
       "      <td>battle</td>\n",
       "      <td>YA BOY CLIP VS 4KUS FULL BATTLE\\r\\n\\r\\n@15Mofe...</td>\n",
       "      <td>0</td>\n",
       "      <td>14</td>\n",
       "      <td>14</td>\n",
       "      <td>137</td>\n",
       "      <td>12</td>\n",
       "      <td>0</td>\n",
       "      <td>6</td>\n",
       "      <td>1</td>\n",
       "      <td>0.350000</td>\n",
       "      <td>0.550000</td>\n",
       "      <td>0.192308</td>\n",
       "      <td>ya boy clip vs 4ku full battl</td>\n",
       "      <td>battl</td>\n",
       "      <td>ya boy clip vs 4ku full battl       battl</td>\n",
       "    </tr>\n",
       "    <tr>\n",
       "      <th>3628</th>\n",
       "      <td>5238</td>\n",
       "      <td>fatality</td>\n",
       "      <td>08/3/15: CAT FATALITY: UTICA NY; PLEASANT &amp;amp...</td>\n",
       "      <td>0</td>\n",
       "      <td>23</td>\n",
       "      <td>23</td>\n",
       "      <td>138</td>\n",
       "      <td>11</td>\n",
       "      <td>0</td>\n",
       "      <td>0</td>\n",
       "      <td>0</td>\n",
       "      <td>0.145833</td>\n",
       "      <td>0.341667</td>\n",
       "      <td>0.27027</td>\n",
       "      <td>08/3/15: cat fatality: utica ny; pleasant &amp;amp...</td>\n",
       "      <td>fatal</td>\n",
       "      <td>08/3/15: cat fatality: utica ny; pleasant &amp;amp...</td>\n",
       "    </tr>\n",
       "  </tbody>\n",
       "</table>\n",
       "</div>"
      ],
      "text/plain": [
       "        id   keyword                                               text  \\\n",
       "547    800    battle  YA BOY CLIP VS 4KUS FULL BATTLE\\r\\n\\r\\n@15Mofe...   \n",
       "3628  5238  fatality  08/3/15: CAT FATALITY: UTICA NY; PLEASANT &amp...   \n",
       "\n",
       "      target  word_count  unique_words_count  Tweet_len  special_chars_count  \\\n",
       "547        0          14                  14        137                   12   \n",
       "3628       0          23                  23        138                   11   \n",
       "\n",
       "      hash_count  @_count  URL_count  sentiment  subjectivity      dis%  \\\n",
       "547            0        6          1   0.350000      0.550000  0.192308   \n",
       "3628           0        0          0   0.145833      0.341667   0.27027   \n",
       "\n",
       "                                             text_clean keyword_clean  \\\n",
       "547                 ya boy clip vs 4ku full battl               battl   \n",
       "3628  08/3/15: cat fatality: utica ny; pleasant &amp...         fatal   \n",
       "\n",
       "                                                newtext  \n",
       "547           ya boy clip vs 4ku full battl       battl  \n",
       "3628  08/3/15: cat fatality: utica ny; pleasant &amp...  "
      ]
     },
     "execution_count": 16,
     "metadata": {},
     "output_type": "execute_result"
    }
   ],
   "source": [
    "train_df.sample(2)"
   ]
  },
  {
   "cell_type": "code",
   "execution_count": 17,
   "id": "82a64730",
   "metadata": {},
   "outputs": [],
   "source": [
    "train_df.to_csv(train_enriched_file, encoding='utf-8',index=False)"
   ]
  },
  {
   "cell_type": "markdown",
   "id": "dba39fa6",
   "metadata": {},
   "source": [
    "# <font color = 'dark green'> test df"
   ]
  },
  {
   "cell_type": "code",
   "execution_count": 18,
   "id": "bb6e9e8b",
   "metadata": {},
   "outputs": [
    {
     "data": {
      "text/html": [
       "<div>\n",
       "<style scoped>\n",
       "    .dataframe tbody tr th:only-of-type {\n",
       "        vertical-align: middle;\n",
       "    }\n",
       "\n",
       "    .dataframe tbody tr th {\n",
       "        vertical-align: top;\n",
       "    }\n",
       "\n",
       "    .dataframe thead th {\n",
       "        text-align: right;\n",
       "    }\n",
       "</style>\n",
       "<table border=\"1\" class=\"dataframe\">\n",
       "  <thead>\n",
       "    <tr style=\"text-align: right;\">\n",
       "      <th></th>\n",
       "      <th>id</th>\n",
       "      <th>keyword</th>\n",
       "      <th>location</th>\n",
       "      <th>text</th>\n",
       "    </tr>\n",
       "  </thead>\n",
       "  <tbody>\n",
       "    <tr>\n",
       "      <th>0</th>\n",
       "      <td>0</td>\n",
       "      <td>NaN</td>\n",
       "      <td>NaN</td>\n",
       "      <td>Just happened a terrible car crash</td>\n",
       "    </tr>\n",
       "    <tr>\n",
       "      <th>1</th>\n",
       "      <td>2</td>\n",
       "      <td>NaN</td>\n",
       "      <td>NaN</td>\n",
       "      <td>Heard about #earthquake is different cities, s...</td>\n",
       "    </tr>\n",
       "    <tr>\n",
       "      <th>2</th>\n",
       "      <td>3</td>\n",
       "      <td>NaN</td>\n",
       "      <td>NaN</td>\n",
       "      <td>there is a forest fire at spot pond, geese are...</td>\n",
       "    </tr>\n",
       "    <tr>\n",
       "      <th>3</th>\n",
       "      <td>9</td>\n",
       "      <td>NaN</td>\n",
       "      <td>NaN</td>\n",
       "      <td>Apocalypse lighting. #Spokane #wildfires</td>\n",
       "    </tr>\n",
       "    <tr>\n",
       "      <th>4</th>\n",
       "      <td>11</td>\n",
       "      <td>NaN</td>\n",
       "      <td>NaN</td>\n",
       "      <td>Typhoon Soudelor kills 28 in China and Taiwan</td>\n",
       "    </tr>\n",
       "  </tbody>\n",
       "</table>\n",
       "</div>"
      ],
      "text/plain": [
       "   id keyword location                                               text\n",
       "0   0     NaN      NaN                 Just happened a terrible car crash\n",
       "1   2     NaN      NaN  Heard about #earthquake is different cities, s...\n",
       "2   3     NaN      NaN  there is a forest fire at spot pond, geese are...\n",
       "3   9     NaN      NaN           Apocalypse lighting. #Spokane #wildfires\n",
       "4  11     NaN      NaN      Typhoon Soudelor kills 28 in China and Taiwan"
      ]
     },
     "execution_count": 18,
     "metadata": {},
     "output_type": "execute_result"
    }
   ],
   "source": [
    "test_df = pd.read_csv(test_file,encoding='utf-8')\n",
    "test_df.head()"
   ]
  },
  {
   "cell_type": "code",
   "execution_count": 19,
   "id": "5165a4ea",
   "metadata": {},
   "outputs": [],
   "source": [
    "test_df.drop(columns=['location'],inplace=True)"
   ]
  },
  {
   "cell_type": "code",
   "execution_count": 20,
   "id": "06cca4b9",
   "metadata": {},
   "outputs": [],
   "source": [
    "test_df.fillna('no_keyword', inplace=True)"
   ]
  },
  {
   "cell_type": "code",
   "execution_count": 21,
   "id": "510cea45",
   "metadata": {},
   "outputs": [
    {
     "data": {
      "text/html": [
       "<div>\n",
       "<style scoped>\n",
       "    .dataframe tbody tr th:only-of-type {\n",
       "        vertical-align: middle;\n",
       "    }\n",
       "\n",
       "    .dataframe tbody tr th {\n",
       "        vertical-align: top;\n",
       "    }\n",
       "\n",
       "    .dataframe thead th {\n",
       "        text-align: right;\n",
       "    }\n",
       "</style>\n",
       "<table border=\"1\" class=\"dataframe\">\n",
       "  <thead>\n",
       "    <tr style=\"text-align: right;\">\n",
       "      <th></th>\n",
       "      <th>id</th>\n",
       "      <th>keyword</th>\n",
       "      <th>text</th>\n",
       "      <th>text_clean</th>\n",
       "      <th>keyword_clean</th>\n",
       "    </tr>\n",
       "  </thead>\n",
       "  <tbody>\n",
       "    <tr>\n",
       "      <th>0</th>\n",
       "      <td>0</td>\n",
       "      <td>no_keyword</td>\n",
       "      <td>Just happened a terrible car crash</td>\n",
       "      <td>happen terribl car crash</td>\n",
       "      <td>nokeyword</td>\n",
       "    </tr>\n",
       "    <tr>\n",
       "      <th>1</th>\n",
       "      <td>2</td>\n",
       "      <td>no_keyword</td>\n",
       "      <td>Heard about #earthquake is different cities, s...</td>\n",
       "      <td>heard #earthquak differ cities, stay safe ever...</td>\n",
       "      <td>nokeyword</td>\n",
       "    </tr>\n",
       "    <tr>\n",
       "      <th>2</th>\n",
       "      <td>3</td>\n",
       "      <td>no_keyword</td>\n",
       "      <td>there is a forest fire at spot pond, geese are...</td>\n",
       "      <td>forest fire spot pond, gees flee across street...</td>\n",
       "      <td>nokeyword</td>\n",
       "    </tr>\n",
       "  </tbody>\n",
       "</table>\n",
       "</div>"
      ],
      "text/plain": [
       "   id     keyword                                               text  \\\n",
       "0   0  no_keyword                 Just happened a terrible car crash   \n",
       "1   2  no_keyword  Heard about #earthquake is different cities, s...   \n",
       "2   3  no_keyword  there is a forest fire at spot pond, geese are...   \n",
       "\n",
       "                                          text_clean keyword_clean  \n",
       "0                           happen terribl car crash     nokeyword  \n",
       "1  heard #earthquak differ cities, stay safe ever...     nokeyword  \n",
       "2  forest fire spot pond, gees flee across street...     nokeyword  "
      ]
     },
     "execution_count": 21,
     "metadata": {},
     "output_type": "execute_result"
    }
   ],
   "source": [
    "test_df = clean_text(test_df,['text','keyword'])\n",
    "test_df.head(3)"
   ]
  },
  {
   "cell_type": "code",
   "execution_count": 22,
   "id": "bde7333d",
   "metadata": {},
   "outputs": [],
   "source": [
    "test_df['newtext'] = test_df['text_clean'] + ' ' + test_df['keyword_clean'].apply(lambda x: x if x != 'nokeyword' else '')"
   ]
  },
  {
   "cell_type": "code",
   "execution_count": 23,
   "id": "5f15f055",
   "metadata": {},
   "outputs": [
    {
     "data": {
      "text/html": [
       "<div>\n",
       "<style scoped>\n",
       "    .dataframe tbody tr th:only-of-type {\n",
       "        vertical-align: middle;\n",
       "    }\n",
       "\n",
       "    .dataframe tbody tr th {\n",
       "        vertical-align: top;\n",
       "    }\n",
       "\n",
       "    .dataframe thead th {\n",
       "        text-align: right;\n",
       "    }\n",
       "</style>\n",
       "<table border=\"1\" class=\"dataframe\">\n",
       "  <thead>\n",
       "    <tr style=\"text-align: right;\">\n",
       "      <th></th>\n",
       "      <th>id</th>\n",
       "      <th>keyword</th>\n",
       "      <th>text</th>\n",
       "      <th>text_clean</th>\n",
       "      <th>keyword_clean</th>\n",
       "      <th>newtext</th>\n",
       "    </tr>\n",
       "  </thead>\n",
       "  <tbody>\n",
       "    <tr>\n",
       "      <th>3187</th>\n",
       "      <td>10586</td>\n",
       "      <td>wounded</td>\n",
       "      <td>Police Officer Wounded Suspect Dead After Exch...</td>\n",
       "      <td>polic offic wound suspect dead exchang shot</td>\n",
       "      <td>wound</td>\n",
       "      <td>polic offic wound suspect dead exchang shot wound</td>\n",
       "    </tr>\n",
       "    <tr>\n",
       "      <th>358</th>\n",
       "      <td>1158</td>\n",
       "      <td>blight</td>\n",
       "      <td>2:20 BLIGHT ?? EVERY DAY</td>\n",
       "      <td>2:20 blight ?? everi day</td>\n",
       "      <td>blight</td>\n",
       "      <td>2:20 blight ?? everi day blight</td>\n",
       "    </tr>\n",
       "  </tbody>\n",
       "</table>\n",
       "</div>"
      ],
      "text/plain": [
       "         id  keyword                                               text  \\\n",
       "3187  10586  wounded  Police Officer Wounded Suspect Dead After Exch...   \n",
       "358    1158   blight                           2:20 BLIGHT ?? EVERY DAY   \n",
       "\n",
       "                                       text_clean keyword_clean  \\\n",
       "3187  polic offic wound suspect dead exchang shot         wound   \n",
       "358                      2:20 blight ?? everi day        blight   \n",
       "\n",
       "                                                newtext  \n",
       "3187  polic offic wound suspect dead exchang shot wound  \n",
       "358                     2:20 blight ?? everi day blight  "
      ]
     },
     "execution_count": 23,
     "metadata": {},
     "output_type": "execute_result"
    }
   ],
   "source": [
    "test_df.sample(2)"
   ]
  },
  {
   "cell_type": "code",
   "execution_count": 24,
   "id": "85d0b961",
   "metadata": {},
   "outputs": [],
   "source": [
    "test_df.to_csv(test_enriched_file, encoding='utf-8',index=False)"
   ]
  },
  {
   "cell_type": "code",
   "execution_count": null,
   "id": "2841b2a3",
   "metadata": {},
   "outputs": [],
   "source": []
  }
 ],
 "metadata": {
  "kernelspec": {
   "display_name": "Python 3 (ipykernel)",
   "language": "python",
   "name": "python3"
  },
  "language_info": {
   "codemirror_mode": {
    "name": "ipython",
    "version": 3
   },
   "file_extension": ".py",
   "mimetype": "text/x-python",
   "name": "python",
   "nbconvert_exporter": "python",
   "pygments_lexer": "ipython3",
   "version": "3.7.4"
  }
 },
 "nbformat": 4,
 "nbformat_minor": 5
}
