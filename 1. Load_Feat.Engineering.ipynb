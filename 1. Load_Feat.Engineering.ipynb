{
 "cells": [
  {
   "cell_type": "code",
   "execution_count": null,
   "id": "c331925d",
   "metadata": {},
   "outputs": [],
   "source": [
    "#!pip install textblob"
   ]
  },
  {
   "cell_type": "code",
   "execution_count": 1,
   "id": "3d581beb",
   "metadata": {},
   "outputs": [],
   "source": [
    "import pandas as pd\n",
    "import os\n",
    "import string\n",
    "from textblob import TextBlob\n",
    "from utils.cleaning_tools import *"
   ]
  },
  {
   "cell_type": "code",
   "execution_count": 2,
   "id": "ddd9da18",
   "metadata": {},
   "outputs": [],
   "source": [
    "train_file = './Data/train.csv'\n",
    "train_enriched_file = './Data/train_enriched.csv'\n",
    "special_char = '~:;}]{[!@#$%^&*()_+=-><,.|\\/?\\'\\\"'\n",
    "hash_char = '#'\n",
    "at_char = '@'\n"
   ]
  },
  {
   "cell_type": "code",
   "execution_count": 3,
   "id": "e9ea444a",
   "metadata": {
    "scrolled": true
   },
   "outputs": [
    {
     "data": {
      "text/html": [
       "<div>\n",
       "<style scoped>\n",
       "    .dataframe tbody tr th:only-of-type {\n",
       "        vertical-align: middle;\n",
       "    }\n",
       "\n",
       "    .dataframe tbody tr th {\n",
       "        vertical-align: top;\n",
       "    }\n",
       "\n",
       "    .dataframe thead th {\n",
       "        text-align: right;\n",
       "    }\n",
       "</style>\n",
       "<table border=\"1\" class=\"dataframe\">\n",
       "  <thead>\n",
       "    <tr style=\"text-align: right;\">\n",
       "      <th></th>\n",
       "      <th>id</th>\n",
       "      <th>keyword</th>\n",
       "      <th>location</th>\n",
       "      <th>text</th>\n",
       "      <th>target</th>\n",
       "    </tr>\n",
       "  </thead>\n",
       "  <tbody>\n",
       "    <tr>\n",
       "      <th>0</th>\n",
       "      <td>1</td>\n",
       "      <td>NaN</td>\n",
       "      <td>NaN</td>\n",
       "      <td>Our Deeds are the Reason of this #earthquake M...</td>\n",
       "      <td>1</td>\n",
       "    </tr>\n",
       "    <tr>\n",
       "      <th>1</th>\n",
       "      <td>4</td>\n",
       "      <td>NaN</td>\n",
       "      <td>NaN</td>\n",
       "      <td>Forest fire near La Ronge Sask. Canada</td>\n",
       "      <td>1</td>\n",
       "    </tr>\n",
       "    <tr>\n",
       "      <th>2</th>\n",
       "      <td>5</td>\n",
       "      <td>NaN</td>\n",
       "      <td>NaN</td>\n",
       "      <td>All residents asked to 'shelter in place' are ...</td>\n",
       "      <td>1</td>\n",
       "    </tr>\n",
       "    <tr>\n",
       "      <th>3</th>\n",
       "      <td>6</td>\n",
       "      <td>NaN</td>\n",
       "      <td>NaN</td>\n",
       "      <td>13,000 people receive #wildfires evacuation or...</td>\n",
       "      <td>1</td>\n",
       "    </tr>\n",
       "    <tr>\n",
       "      <th>4</th>\n",
       "      <td>7</td>\n",
       "      <td>NaN</td>\n",
       "      <td>NaN</td>\n",
       "      <td>Just got sent this photo from Ruby #Alaska as ...</td>\n",
       "      <td>1</td>\n",
       "    </tr>\n",
       "  </tbody>\n",
       "</table>\n",
       "</div>"
      ],
      "text/plain": [
       "   id keyword location                                               text  \\\n",
       "0   1     NaN      NaN  Our Deeds are the Reason of this #earthquake M...   \n",
       "1   4     NaN      NaN             Forest fire near La Ronge Sask. Canada   \n",
       "2   5     NaN      NaN  All residents asked to 'shelter in place' are ...   \n",
       "3   6     NaN      NaN  13,000 people receive #wildfires evacuation or...   \n",
       "4   7     NaN      NaN  Just got sent this photo from Ruby #Alaska as ...   \n",
       "\n",
       "   target  \n",
       "0       1  \n",
       "1       1  \n",
       "2       1  \n",
       "3       1  \n",
       "4       1  "
      ]
     },
     "execution_count": 3,
     "metadata": {},
     "output_type": "execute_result"
    }
   ],
   "source": [
    "train_df = pd.read_csv(train_file,encoding='utf-8')\n",
    "train_df.head()"
   ]
  },
  {
   "cell_type": "markdown",
   "id": "fbc8439e",
   "metadata": {},
   "source": [
    "### add features"
   ]
  },
  {
   "cell_type": "code",
   "execution_count": 4,
   "id": "dea8f736",
   "metadata": {},
   "outputs": [],
   "source": [
    "def add_features(df):\n",
    "    df['word_count'] = df['text'].apply(lambda t: len(t.split()))\n",
    "    df['unique_words_count'] = df['text'].apply(lambda t: len(set(t.split())))\n",
    "    df['Tweet_len'] = df['text'].apply(lambda t: len(t))\n",
    "    df['special_chars_count'] = df['text'].apply(lambda t: len([c for c in str(t) if c in special_char]))\n",
    "    #df['punctuation_count'] = df['text'].apply(lambda t: len([c for c in str(t) if c in string.punctuation]))\n",
    "    df['hash_count'] = df['text'].apply(lambda t: len([c for c in str(t) if c in hash_char]))\n",
    "    df['@_count'] = df['text'].apply(lambda t: len([c for c in str(t) if c in at_char]))\n",
    "    df['URL_count']  = df['text'].apply(lambda t: len([w for w in str(t).lower().split() if 'http' in w or 'https' in w]))\n",
    "    df['sentiment'] = df['text'].apply(lambda t: TextBlob(t).sentiment.polarity)\n",
    "    df['subjectivity'] = df['text'].apply(lambda t: TextBlob(t).sentiment.subjectivity)\n",
    "    \n",
    "    return df"
   ]
  },
  {
   "cell_type": "code",
   "execution_count": 5,
   "id": "19ecfaa8",
   "metadata": {},
   "outputs": [],
   "source": [
    "# The polarity score is a float within the range [-1.0, 1.0], where -1 is very negative and +1 very positive\n",
    "# The subjectivity is a float within the range [0.0, 1.0], where 0.0 is very objective and 1.0 is very subjective."
   ]
  },
  {
   "cell_type": "code",
   "execution_count": 6,
   "id": "f80eccbf",
   "metadata": {},
   "outputs": [
    {
     "data": {
      "text/html": [
       "<div>\n",
       "<style scoped>\n",
       "    .dataframe tbody tr th:only-of-type {\n",
       "        vertical-align: middle;\n",
       "    }\n",
       "\n",
       "    .dataframe tbody tr th {\n",
       "        vertical-align: top;\n",
       "    }\n",
       "\n",
       "    .dataframe thead th {\n",
       "        text-align: right;\n",
       "    }\n",
       "</style>\n",
       "<table border=\"1\" class=\"dataframe\">\n",
       "  <thead>\n",
       "    <tr style=\"text-align: right;\">\n",
       "      <th></th>\n",
       "      <th>id</th>\n",
       "      <th>keyword</th>\n",
       "      <th>location</th>\n",
       "      <th>text</th>\n",
       "      <th>target</th>\n",
       "      <th>word_count</th>\n",
       "      <th>unique_words_count</th>\n",
       "      <th>Tweet_len</th>\n",
       "      <th>special_chars_count</th>\n",
       "      <th>hash_count</th>\n",
       "      <th>@_count</th>\n",
       "      <th>URL_count</th>\n",
       "      <th>sentiment</th>\n",
       "      <th>subjectivity</th>\n",
       "    </tr>\n",
       "  </thead>\n",
       "  <tbody>\n",
       "    <tr>\n",
       "      <th>2578</th>\n",
       "      <td>3696</td>\n",
       "      <td>destroy</td>\n",
       "      <td>NaN</td>\n",
       "      <td>@engineermataRAI ate mataas kc rating..but the...</td>\n",
       "      <td>0</td>\n",
       "      <td>21</td>\n",
       "      <td>19</td>\n",
       "      <td>126</td>\n",
       "      <td>3</td>\n",
       "      <td>0</td>\n",
       "      <td>1</td>\n",
       "      <td>0</td>\n",
       "      <td>-0.2</td>\n",
       "      <td>0.0</td>\n",
       "    </tr>\n",
       "  </tbody>\n",
       "</table>\n",
       "</div>"
      ],
      "text/plain": [
       "        id  keyword location  \\\n",
       "2578  3696  destroy      NaN   \n",
       "\n",
       "                                                   text  target  word_count  \\\n",
       "2578  @engineermataRAI ate mataas kc rating..but the...       0          21   \n",
       "\n",
       "      unique_words_count  Tweet_len  special_chars_count  hash_count  @_count  \\\n",
       "2578                  19        126                    3           0        1   \n",
       "\n",
       "      URL_count  sentiment  subjectivity  \n",
       "2578          0       -0.2           0.0  "
      ]
     },
     "execution_count": 6,
     "metadata": {},
     "output_type": "execute_result"
    }
   ],
   "source": [
    "train_df = add_features(train_df)\n",
    "train_df.sample()"
   ]
  },
  {
   "cell_type": "code",
   "execution_count": 7,
   "id": "8cfbb429",
   "metadata": {},
   "outputs": [
    {
     "data": {
      "text/html": [
       "<div>\n",
       "<style scoped>\n",
       "    .dataframe tbody tr th:only-of-type {\n",
       "        vertical-align: middle;\n",
       "    }\n",
       "\n",
       "    .dataframe tbody tr th {\n",
       "        vertical-align: top;\n",
       "    }\n",
       "\n",
       "    .dataframe thead th {\n",
       "        text-align: right;\n",
       "    }\n",
       "</style>\n",
       "<table border=\"1\" class=\"dataframe\">\n",
       "  <thead>\n",
       "    <tr style=\"text-align: right;\">\n",
       "      <th>target</th>\n",
       "      <th>keyword</th>\n",
       "      <th>0</th>\n",
       "      <th>1</th>\n",
       "      <th>sum</th>\n",
       "      <th>dis%</th>\n",
       "    </tr>\n",
       "  </thead>\n",
       "  <tbody>\n",
       "    <tr>\n",
       "      <th>96</th>\n",
       "      <td>evacuated</td>\n",
       "      <td>4.0</td>\n",
       "      <td>32.0</td>\n",
       "      <td>36.0</td>\n",
       "      <td>0.888889</td>\n",
       "    </tr>\n",
       "    <tr>\n",
       "      <th>197</th>\n",
       "      <td>tornado</td>\n",
       "      <td>19.0</td>\n",
       "      <td>16.0</td>\n",
       "      <td>35.0</td>\n",
       "      <td>0.457143</td>\n",
       "    </tr>\n",
       "    <tr>\n",
       "      <th>51</th>\n",
       "      <td>crash</td>\n",
       "      <td>21.0</td>\n",
       "      <td>12.0</td>\n",
       "      <td>33.0</td>\n",
       "      <td>0.363636</td>\n",
       "    </tr>\n",
       "    <tr>\n",
       "      <th>146</th>\n",
       "      <td>natural%20disaster</td>\n",
       "      <td>16.0</td>\n",
       "      <td>18.0</td>\n",
       "      <td>34.0</td>\n",
       "      <td>0.529412</td>\n",
       "    </tr>\n",
       "    <tr>\n",
       "      <th>46</th>\n",
       "      <td>collapse</td>\n",
       "      <td>19.0</td>\n",
       "      <td>15.0</td>\n",
       "      <td>34.0</td>\n",
       "      <td>0.441176</td>\n",
       "    </tr>\n",
       "  </tbody>\n",
       "</table>\n",
       "</div>"
      ],
      "text/plain": [
       "target             keyword     0     1   sum      dis%\n",
       "96               evacuated   4.0  32.0  36.0  0.888889\n",
       "197                tornado  19.0  16.0  35.0  0.457143\n",
       "51                   crash  21.0  12.0  33.0  0.363636\n",
       "146     natural%20disaster  16.0  18.0  34.0  0.529412\n",
       "46                collapse  19.0  15.0  34.0  0.441176"
      ]
     },
     "execution_count": 7,
     "metadata": {},
     "output_type": "execute_result"
    }
   ],
   "source": [
    "table = pd.pivot_table(train_df, index='keyword', columns='target',values='id', aggfunc='count')\n",
    "table.reset_index(inplace=True)\n",
    "table[0].fillna(0, inplace=True)\n",
    "table[1].fillna(0, inplace=True) \n",
    "table['sum'] = (table[0] + table[1])\n",
    "table['dis%'] = table[1]/(table[0] + table[1])\n",
    "table.sample(5)"
   ]
  },
  {
   "cell_type": "code",
   "execution_count": 8,
   "id": "aca8fe97",
   "metadata": {},
   "outputs": [
    {
     "data": {
      "text/html": [
       "<div>\n",
       "<style scoped>\n",
       "    .dataframe tbody tr th:only-of-type {\n",
       "        vertical-align: middle;\n",
       "    }\n",
       "\n",
       "    .dataframe tbody tr th {\n",
       "        vertical-align: top;\n",
       "    }\n",
       "\n",
       "    .dataframe thead th {\n",
       "        text-align: right;\n",
       "    }\n",
       "</style>\n",
       "<table border=\"1\" class=\"dataframe\">\n",
       "  <thead>\n",
       "    <tr style=\"text-align: right;\">\n",
       "      <th></th>\n",
       "      <th>id</th>\n",
       "      <th>keyword</th>\n",
       "      <th>location</th>\n",
       "      <th>text</th>\n",
       "      <th>target</th>\n",
       "      <th>word_count</th>\n",
       "      <th>unique_words_count</th>\n",
       "      <th>Tweet_len</th>\n",
       "      <th>special_chars_count</th>\n",
       "      <th>hash_count</th>\n",
       "      <th>@_count</th>\n",
       "      <th>URL_count</th>\n",
       "      <th>sentiment</th>\n",
       "      <th>subjectivity</th>\n",
       "      <th>dis%</th>\n",
       "    </tr>\n",
       "  </thead>\n",
       "  <tbody>\n",
       "    <tr>\n",
       "      <th>4087</th>\n",
       "      <td>5808</td>\n",
       "      <td>hail</td>\n",
       "      <td>Brasil, Fortaleza ce</td>\n",
       "      <td>Seen on Fahlo:#WCW All Hail the QueenåÊ?? http...</td>\n",
       "      <td>0</td>\n",
       "      <td>12</td>\n",
       "      <td>12</td>\n",
       "      <td>113</td>\n",
       "      <td>15</td>\n",
       "      <td>2</td>\n",
       "      <td>0</td>\n",
       "      <td>2</td>\n",
       "      <td>0.0</td>\n",
       "      <td>0.0</td>\n",
       "      <td>0.514286</td>\n",
       "    </tr>\n",
       "  </tbody>\n",
       "</table>\n",
       "</div>"
      ],
      "text/plain": [
       "        id keyword              location  \\\n",
       "4087  5808    hail  Brasil, Fortaleza ce   \n",
       "\n",
       "                                                   text  target  word_count  \\\n",
       "4087  Seen on Fahlo:#WCW All Hail the QueenåÊ?? http...       0          12   \n",
       "\n",
       "      unique_words_count  Tweet_len  special_chars_count  hash_count  @_count  \\\n",
       "4087                  12        113                   15           2        0   \n",
       "\n",
       "      URL_count  sentiment  subjectivity      dis%  \n",
       "4087          2        0.0           0.0  0.514286  "
      ]
     },
     "execution_count": 8,
     "metadata": {},
     "output_type": "execute_result"
    }
   ],
   "source": [
    "train_df = train_df.merge(table[['keyword','dis%']], on='keyword', how='left')\n",
    "train_df.sample()"
   ]
  },
  {
   "cell_type": "markdown",
   "id": "a38d912a",
   "metadata": {},
   "source": [
    "### drop duplicates"
   ]
  },
  {
   "cell_type": "code",
   "execution_count": 9,
   "id": "4fd3a95a",
   "metadata": {},
   "outputs": [
    {
     "data": {
      "text/plain": [
       "7613"
      ]
     },
     "execution_count": 9,
     "metadata": {},
     "output_type": "execute_result"
    }
   ],
   "source": [
    "len(train_df)"
   ]
  },
  {
   "cell_type": "code",
   "execution_count": 10,
   "id": "78c57cbd",
   "metadata": {},
   "outputs": [
    {
     "data": {
      "text/plain": [
       "7503"
      ]
     },
     "execution_count": 10,
     "metadata": {},
     "output_type": "execute_result"
    }
   ],
   "source": [
    "train_df.drop_duplicates(subset=['text'],inplace=True)\n",
    "train_df.reset_index(drop=True,inplace=True)\n",
    "len(train_df)"
   ]
  },
  {
   "cell_type": "markdown",
   "id": "05e5b534",
   "metadata": {},
   "source": [
    "### delete location column"
   ]
  },
  {
   "cell_type": "code",
   "execution_count": 11,
   "id": "fe5158ba",
   "metadata": {},
   "outputs": [],
   "source": [
    "train_df.drop(columns=['location'],inplace=True)\n"
   ]
  },
  {
   "cell_type": "markdown",
   "id": "bd730e58",
   "metadata": {},
   "source": [
    "### replace NaN with 'no_keyword'"
   ]
  },
  {
   "cell_type": "code",
   "execution_count": 12,
   "id": "49c172f7",
   "metadata": {},
   "outputs": [],
   "source": [
    "train_df.fillna('no_keyword', inplace=True)"
   ]
  },
  {
   "cell_type": "markdown",
   "id": "84fc3b6f",
   "metadata": {},
   "source": [
    "### cleaning"
   ]
  },
  {
   "cell_type": "code",
   "execution_count": 13,
   "id": "5bd4b9bf",
   "metadata": {},
   "outputs": [],
   "source": [
    "#ToDo: how to write it correctly so it return df? \n",
    "#def clean_test(df,columns: list) -> DataFrame():\n",
    "\n",
    "def clean_text(df,columns: list):    \n",
    "    for item in columns:\n",
    "        new_head = str(item)+'_clean'\n",
    "        df[new_head] = df[item].apply(lambda x: str(x).lower())\n",
    "        \n",
    "        df[new_head] = df[new_head].replace(repl_dict, regex=True)\n",
    "        df[new_head] = df[new_head].apply(lambda x: str(x).strip())\n",
    "        df[new_head] = df[new_head].apply(lambda x: remove_http(x))\n",
    "        df[new_head] = df[new_head].apply(lambda x: remove_stopwords(x))\n",
    "        df[new_head] = df[new_head].apply(lambda x: text_stemmer(x))\n",
    "        \n",
    "    return df\n",
    "        "
   ]
  },
  {
   "cell_type": "code",
   "execution_count": 14,
   "id": "6d83298c",
   "metadata": {},
   "outputs": [
    {
     "data": {
      "text/html": [
       "<div>\n",
       "<style scoped>\n",
       "    .dataframe tbody tr th:only-of-type {\n",
       "        vertical-align: middle;\n",
       "    }\n",
       "\n",
       "    .dataframe tbody tr th {\n",
       "        vertical-align: top;\n",
       "    }\n",
       "\n",
       "    .dataframe thead th {\n",
       "        text-align: right;\n",
       "    }\n",
       "</style>\n",
       "<table border=\"1\" class=\"dataframe\">\n",
       "  <thead>\n",
       "    <tr style=\"text-align: right;\">\n",
       "      <th></th>\n",
       "      <th>id</th>\n",
       "      <th>keyword</th>\n",
       "      <th>text</th>\n",
       "      <th>target</th>\n",
       "      <th>word_count</th>\n",
       "      <th>unique_words_count</th>\n",
       "      <th>Tweet_len</th>\n",
       "      <th>special_chars_count</th>\n",
       "      <th>hash_count</th>\n",
       "      <th>@_count</th>\n",
       "      <th>URL_count</th>\n",
       "      <th>sentiment</th>\n",
       "      <th>subjectivity</th>\n",
       "      <th>dis%</th>\n",
       "      <th>text_clean</th>\n",
       "      <th>keyword_clean</th>\n",
       "    </tr>\n",
       "  </thead>\n",
       "  <tbody>\n",
       "    <tr>\n",
       "      <th>0</th>\n",
       "      <td>1</td>\n",
       "      <td>no_keyword</td>\n",
       "      <td>Our Deeds are the Reason of this #earthquake M...</td>\n",
       "      <td>1</td>\n",
       "      <td>13</td>\n",
       "      <td>13</td>\n",
       "      <td>69</td>\n",
       "      <td>1</td>\n",
       "      <td>1</td>\n",
       "      <td>0</td>\n",
       "      <td>0</td>\n",
       "      <td>0.00000</td>\n",
       "      <td>0.0000</td>\n",
       "      <td>no_keyword</td>\n",
       "      <td>deed reason #earthquak may allah forgiv</td>\n",
       "      <td>no_keyword</td>\n",
       "    </tr>\n",
       "    <tr>\n",
       "      <th>1</th>\n",
       "      <td>4</td>\n",
       "      <td>no_keyword</td>\n",
       "      <td>Forest fire near La Ronge Sask. Canada</td>\n",
       "      <td>1</td>\n",
       "      <td>7</td>\n",
       "      <td>7</td>\n",
       "      <td>38</td>\n",
       "      <td>1</td>\n",
       "      <td>0</td>\n",
       "      <td>0</td>\n",
       "      <td>0</td>\n",
       "      <td>0.10000</td>\n",
       "      <td>0.4000</td>\n",
       "      <td>no_keyword</td>\n",
       "      <td>forest fire near la rong sask. canada</td>\n",
       "      <td>no_keyword</td>\n",
       "    </tr>\n",
       "    <tr>\n",
       "      <th>2</th>\n",
       "      <td>5</td>\n",
       "      <td>no_keyword</td>\n",
       "      <td>All residents asked to 'shelter in place' are ...</td>\n",
       "      <td>1</td>\n",
       "      <td>22</td>\n",
       "      <td>20</td>\n",
       "      <td>133</td>\n",
       "      <td>3</td>\n",
       "      <td>0</td>\n",
       "      <td>0</td>\n",
       "      <td>0</td>\n",
       "      <td>-0.01875</td>\n",
       "      <td>0.3875</td>\n",
       "      <td>no_keyword</td>\n",
       "      <td>resid ask 'shelter place' notifi officers. eva...</td>\n",
       "      <td>no_keyword</td>\n",
       "    </tr>\n",
       "  </tbody>\n",
       "</table>\n",
       "</div>"
      ],
      "text/plain": [
       "   id     keyword                                               text  target  \\\n",
       "0   1  no_keyword  Our Deeds are the Reason of this #earthquake M...       1   \n",
       "1   4  no_keyword             Forest fire near La Ronge Sask. Canada       1   \n",
       "2   5  no_keyword  All residents asked to 'shelter in place' are ...       1   \n",
       "\n",
       "   word_count  unique_words_count  Tweet_len  special_chars_count  hash_count  \\\n",
       "0          13                  13         69                    1           1   \n",
       "1           7                   7         38                    1           0   \n",
       "2          22                  20        133                    3           0   \n",
       "\n",
       "   @_count  URL_count  sentiment  subjectivity        dis%  \\\n",
       "0        0          0    0.00000        0.0000  no_keyword   \n",
       "1        0          0    0.10000        0.4000  no_keyword   \n",
       "2        0          0   -0.01875        0.3875  no_keyword   \n",
       "\n",
       "                                          text_clean keyword_clean  \n",
       "0            deed reason #earthquak may allah forgiv    no_keyword  \n",
       "1              forest fire near la rong sask. canada    no_keyword  \n",
       "2  resid ask 'shelter place' notifi officers. eva...    no_keyword  "
      ]
     },
     "execution_count": 14,
     "metadata": {},
     "output_type": "execute_result"
    }
   ],
   "source": [
    "train_df = clean_text(train_df,['text','keyword'])\n",
    "train_df.head(3)"
   ]
  },
  {
   "cell_type": "code",
   "execution_count": null,
   "id": "e11c763a",
   "metadata": {},
   "outputs": [],
   "source": []
  },
  {
   "cell_type": "code",
   "execution_count": null,
   "id": "bb6e9e8b",
   "metadata": {},
   "outputs": [],
   "source": []
  },
  {
   "cell_type": "code",
   "execution_count": null,
   "id": "5165a4ea",
   "metadata": {},
   "outputs": [],
   "source": []
  },
  {
   "cell_type": "code",
   "execution_count": null,
   "id": "06cca4b9",
   "metadata": {},
   "outputs": [],
   "source": []
  },
  {
   "cell_type": "code",
   "execution_count": 15,
   "id": "0c9bb098",
   "metadata": {},
   "outputs": [],
   "source": [
    "train_df.to_csv(train_enriched_file, encoding='utf-8',index=False)"
   ]
  },
  {
   "cell_type": "code",
   "execution_count": null,
   "id": "2841b2a3",
   "metadata": {},
   "outputs": [],
   "source": []
  }
 ],
 "metadata": {
  "kernelspec": {
   "display_name": "Python 3 (ipykernel)",
   "language": "python",
   "name": "python3"
  },
  "language_info": {
   "codemirror_mode": {
    "name": "ipython",
    "version": 3
   },
   "file_extension": ".py",
   "mimetype": "text/x-python",
   "name": "python",
   "nbconvert_exporter": "python",
   "pygments_lexer": "ipython3",
   "version": "3.7.4"
  }
 },
 "nbformat": 4,
 "nbformat_minor": 5
}
