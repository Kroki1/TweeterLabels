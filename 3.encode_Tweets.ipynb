{
 "cells": [
  {
   "cell_type": "code",
<<<<<<< HEAD
   "execution_count": 1,
=======
   "execution_count": 110,
>>>>>>> 1f49f1d9b388bbf613a6329e6f80c934873176b9
   "id": "b4e5f9bb",
   "metadata": {},
   "outputs": [],
   "source": [
    "import numpy as np\n",
    "import pandas as pd\n",
    "import sys\n",
    "from tqdm import tqdm\n",
    "import os\n",
    "from random import sample\n",
    "from annoy import AnnoyIndex\n",
    "import matplotlib.pyplot as plt"
   ]
  },
  {
   "cell_type": "code",
<<<<<<< HEAD
   "execution_count": 2,
=======
   "execution_count": 16,
>>>>>>> 1f49f1d9b388bbf613a6329e6f80c934873176b9
   "id": "8d055580",
   "metadata": {},
   "outputs": [],
   "source": [
    "train_file = './Data/train.csv'\n",
    "train_enriched_file = './Data/train_enriched_v2.csv'\n",
    "test_file = './Data/test.csv'\n",
    "label_file = './Data/sample_submission.csv'\n",
    "embeddings_dim = 384"
   ]
  },
  {
   "cell_type": "code",
<<<<<<< HEAD
   "execution_count": 3,
=======
   "execution_count": 4,
>>>>>>> 1f49f1d9b388bbf613a6329e6f80c934873176b9
   "id": "8045564d",
   "metadata": {},
   "outputs": [],
   "source": [
<<<<<<< HEAD
    "df = pd.read_csv(train_enriched_file, encoding='utf-8')\n",
    "df_test = pd.read_csv(test_file,encoding='utf-8')\n",
    "df_true = pd.read_csv('./Data/submission.csv', encoding='utf-8')"
=======
    "df = pd.read_csv(train_enriched_file, encoding='utf-8')"
>>>>>>> 1f49f1d9b388bbf613a6329e6f80c934873176b9
   ]
  },
  {
   "cell_type": "code",
<<<<<<< HEAD
   "execution_count": 4,
=======
   "execution_count": 5,
>>>>>>> 1f49f1d9b388bbf613a6329e6f80c934873176b9
   "id": "04ddac5d",
   "metadata": {},
   "outputs": [
    {
     "name": "stderr",
     "output_type": "stream",
     "text": [
      "C:\\Users\\mats\\AppData\\Roaming\\Python\\Python37\\site-packages\\tqdm\\auto.py:22: TqdmWarning: IProgress not found. Please update jupyter and ipywidgets. See https://ipywidgets.readthedocs.io/en/stable/user_install.html\n",
      "  from .autonotebook import tqdm as notebook_tqdm\n",
      "C:\\Users\\mats\\AppData\\Roaming\\Python\\Python37\\site-packages\\huggingface_hub\\snapshot_download.py:11: FutureWarning: snapshot_download.py has been made private and will no longer be available from version 0.11. Please use `from huggingface_hub import snapshot_download` to import the only public function in this module. Other members of the file may be changed without a deprecation notice.\n",
      "  FutureWarning,\n",
      "C:\\Users\\mats\\AppData\\Roaming\\Python\\Python37\\site-packages\\huggingface_hub\\file_download.py:563: FutureWarning: `cached_download` is the legacy way to download files from the HF hub, please consider upgrading to `hf_hub_download`\n",
      "  FutureWarning,\n"
     ]
    }
   ],
   "source": [
    "from sentence_transformers import SentenceTransformer\n",
    "model = SentenceTransformer('sentence-transformers/all-MiniLM-L6-v2')"
   ]
  },
  {
   "cell_type": "code",
<<<<<<< HEAD
   "execution_count": 5,
=======
   "execution_count": 7,
>>>>>>> 1f49f1d9b388bbf613a6329e6f80c934873176b9
   "id": "feaba134",
   "metadata": {},
   "outputs": [],
   "source": [
    "def encode(text):\n",
    "    emb = model.encode(text, convert_to_tensor=True).tolist()\n",
    "    return emb"
   ]
  },
  {
   "cell_type": "code",
<<<<<<< HEAD
   "execution_count": 6,
=======
   "execution_count": 8,
>>>>>>> 1f49f1d9b388bbf613a6329e6f80c934873176b9
   "id": "696d254e",
   "metadata": {},
   "outputs": [],
   "source": [
    "df['emb'] = df['text'].apply(lambda t: encode(t))"
   ]
  },
  {
   "cell_type": "code",
<<<<<<< HEAD
   "execution_count": 7,
=======
   "execution_count": 10,
>>>>>>> 1f49f1d9b388bbf613a6329e6f80c934873176b9
   "id": "5ad1152c",
   "metadata": {},
   "outputs": [
    {
     "data": {
      "text/html": [
       "<div>\n",
       "<style scoped>\n",
       "    .dataframe tbody tr th:only-of-type {\n",
       "        vertical-align: middle;\n",
       "    }\n",
       "\n",
       "    .dataframe tbody tr th {\n",
       "        vertical-align: top;\n",
       "    }\n",
       "\n",
       "    .dataframe thead th {\n",
       "        text-align: right;\n",
       "    }\n",
       "</style>\n",
       "<table border=\"1\" class=\"dataframe\">\n",
       "  <thead>\n",
       "    <tr style=\"text-align: right;\">\n",
       "      <th></th>\n",
       "      <th>id</th>\n",
       "      <th>keyword</th>\n",
       "      <th>location</th>\n",
       "      <th>text</th>\n",
       "      <th>target</th>\n",
       "      <th>word_count</th>\n",
       "      <th>unique_words_count</th>\n",
       "      <th>Tweet_len</th>\n",
       "      <th>special_chars_count</th>\n",
       "      <th>punctuation_count</th>\n",
       "      <th>hash_count</th>\n",
       "      <th>@_count</th>\n",
       "      <th>URL_count</th>\n",
       "      <th>sentiment</th>\n",
       "      <th>subjectivity</th>\n",
       "      <th>dis%</th>\n",
       "      <th>emb</th>\n",
       "    </tr>\n",
       "  </thead>\n",
       "  <tbody>\n",
       "    <tr>\n",
       "      <th>0</th>\n",
       "      <td>1</td>\n",
       "      <td>NaN</td>\n",
       "      <td>NaN</td>\n",
       "      <td>Our Deeds are the Reason of this #earthquake M...</td>\n",
       "      <td>1</td>\n",
       "      <td>13</td>\n",
       "      <td>13</td>\n",
       "      <td>69</td>\n",
       "      <td>1</td>\n",
       "      <td>1</td>\n",
       "      <td>1</td>\n",
       "      <td>0</td>\n",
       "      <td>0</td>\n",
<<<<<<< HEAD
       "      <td>0.0</td>\n",
       "      <td>0.0</td>\n",
=======
       "      <td>0.00000</td>\n",
       "      <td>0.0000</td>\n",
>>>>>>> 1f49f1d9b388bbf613a6329e6f80c934873176b9
       "      <td>NaN</td>\n",
       "      <td>[-0.014600081369280815, 0.04686833173036575, 0...</td>\n",
       "    </tr>\n",
       "    <tr>\n",
       "      <th>1</th>\n",
       "      <td>4</td>\n",
       "      <td>NaN</td>\n",
       "      <td>NaN</td>\n",
       "      <td>Forest fire near La Ronge Sask. Canada</td>\n",
       "      <td>1</td>\n",
       "      <td>7</td>\n",
       "      <td>7</td>\n",
       "      <td>38</td>\n",
       "      <td>1</td>\n",
       "      <td>1</td>\n",
       "      <td>0</td>\n",
       "      <td>0</td>\n",
       "      <td>0</td>\n",
<<<<<<< HEAD
       "      <td>0.1</td>\n",
       "      <td>0.4</td>\n",
       "      <td>NaN</td>\n",
       "      <td>[0.04022921994328499, 0.03801415115594864, -0....</td>\n",
       "    </tr>\n",
=======
       "      <td>0.10000</td>\n",
       "      <td>0.4000</td>\n",
       "      <td>NaN</td>\n",
       "      <td>[0.04022921994328499, 0.03801415115594864, -0....</td>\n",
       "    </tr>\n",
       "    <tr>\n",
       "      <th>2</th>\n",
       "      <td>5</td>\n",
       "      <td>NaN</td>\n",
       "      <td>NaN</td>\n",
       "      <td>All residents asked to 'shelter in place' are ...</td>\n",
       "      <td>1</td>\n",
       "      <td>22</td>\n",
       "      <td>20</td>\n",
       "      <td>133</td>\n",
       "      <td>3</td>\n",
       "      <td>3</td>\n",
       "      <td>0</td>\n",
       "      <td>0</td>\n",
       "      <td>0</td>\n",
       "      <td>-0.01875</td>\n",
       "      <td>0.3875</td>\n",
       "      <td>NaN</td>\n",
       "      <td>[0.13137568533420563, 0.012401222251355648, 0....</td>\n",
       "    </tr>\n",
       "    <tr>\n",
       "      <th>3</th>\n",
       "      <td>6</td>\n",
       "      <td>NaN</td>\n",
       "      <td>NaN</td>\n",
       "      <td>13,000 people receive #wildfires evacuation or...</td>\n",
       "      <td>1</td>\n",
       "      <td>8</td>\n",
       "      <td>8</td>\n",
       "      <td>65</td>\n",
       "      <td>2</td>\n",
       "      <td>2</td>\n",
       "      <td>1</td>\n",
       "      <td>0</td>\n",
       "      <td>0</td>\n",
       "      <td>0.00000</td>\n",
       "      <td>0.0000</td>\n",
       "      <td>NaN</td>\n",
       "      <td>[0.09401406347751617, -0.037556517869234085, 0...</td>\n",
       "    </tr>\n",
       "    <tr>\n",
       "      <th>4</th>\n",
       "      <td>7</td>\n",
       "      <td>NaN</td>\n",
       "      <td>NaN</td>\n",
       "      <td>Just got sent this photo from Ruby #Alaska as ...</td>\n",
       "      <td>1</td>\n",
       "      <td>16</td>\n",
       "      <td>15</td>\n",
       "      <td>88</td>\n",
       "      <td>2</td>\n",
       "      <td>2</td>\n",
       "      <td>2</td>\n",
       "      <td>0</td>\n",
       "      <td>0</td>\n",
       "      <td>0.00000</td>\n",
       "      <td>0.0000</td>\n",
       "      <td>NaN</td>\n",
       "      <td>[-0.040948569774627686, 0.08828365057706833, 0...</td>\n",
       "    </tr>\n",
>>>>>>> 1f49f1d9b388bbf613a6329e6f80c934873176b9
       "  </tbody>\n",
       "</table>\n",
       "</div>"
      ],
      "text/plain": [
       "   id keyword location                                               text  \\\n",
       "0   1     NaN      NaN  Our Deeds are the Reason of this #earthquake M...   \n",
       "1   4     NaN      NaN             Forest fire near La Ronge Sask. Canada   \n",
<<<<<<< HEAD
=======
       "2   5     NaN      NaN  All residents asked to 'shelter in place' are ...   \n",
       "3   6     NaN      NaN  13,000 people receive #wildfires evacuation or...   \n",
       "4   7     NaN      NaN  Just got sent this photo from Ruby #Alaska as ...   \n",
>>>>>>> 1f49f1d9b388bbf613a6329e6f80c934873176b9
       "\n",
       "   target  word_count  unique_words_count  Tweet_len  special_chars_count  \\\n",
       "0       1          13                  13         69                    1   \n",
       "1       1           7                   7         38                    1   \n",
<<<<<<< HEAD
       "\n",
       "   punctuation_count  hash_count  @_count  URL_count  sentiment  subjectivity  \\\n",
       "0                  1           1        0          0        0.0           0.0   \n",
       "1                  1           0        0          0        0.1           0.4   \n",
       "\n",
       "   dis%                                                emb  \n",
       "0   NaN  [-0.014600081369280815, 0.04686833173036575, 0...  \n",
       "1   NaN  [0.04022921994328499, 0.03801415115594864, -0....  "
      ]
     },
     "execution_count": 7,
=======
       "2       1          22                  20        133                    3   \n",
       "3       1           8                   8         65                    2   \n",
       "4       1          16                  15         88                    2   \n",
       "\n",
       "   punctuation_count  hash_count  @_count  URL_count  sentiment  subjectivity  \\\n",
       "0                  1           1        0          0    0.00000        0.0000   \n",
       "1                  1           0        0          0    0.10000        0.4000   \n",
       "2                  3           0        0          0   -0.01875        0.3875   \n",
       "3                  2           1        0          0    0.00000        0.0000   \n",
       "4                  2           2        0          0    0.00000        0.0000   \n",
       "\n",
       "   dis%                                                emb  \n",
       "0   NaN  [-0.014600081369280815, 0.04686833173036575, 0...  \n",
       "1   NaN  [0.04022921994328499, 0.03801415115594864, -0....  \n",
       "2   NaN  [0.13137568533420563, 0.012401222251355648, 0....  \n",
       "3   NaN  [0.09401406347751617, -0.037556517869234085, 0...  \n",
       "4   NaN  [-0.040948569774627686, 0.08828365057706833, 0...  "
      ]
     },
     "execution_count": 10,
>>>>>>> 1f49f1d9b388bbf613a6329e6f80c934873176b9
     "metadata": {},
     "output_type": "execute_result"
    }
   ],
   "source": [
    "df.head(2)"
   ]
  },
  {
   "cell_type": "code",
<<<<<<< HEAD
   "execution_count": 8,
=======
   "execution_count": 12,
>>>>>>> 1f49f1d9b388bbf613a6329e6f80c934873176b9
   "id": "7101dfde",
   "metadata": {},
   "outputs": [],
   "source": [
    "df.to_csv('./Data/train_emb.csv', encoding='utf-8')"
   ]
  },
  {
   "cell_type": "code",
<<<<<<< HEAD
   "execution_count": 9,
=======
   "execution_count": 14,
   "id": "82922f71",
   "metadata": {},
   "outputs": [
    {
     "data": {
      "text/html": [
       "<div>\n",
       "<style scoped>\n",
       "    .dataframe tbody tr th:only-of-type {\n",
       "        vertical-align: middle;\n",
       "    }\n",
       "\n",
       "    .dataframe tbody tr th {\n",
       "        vertical-align: top;\n",
       "    }\n",
       "\n",
       "    .dataframe thead th {\n",
       "        text-align: right;\n",
       "    }\n",
       "</style>\n",
       "<table border=\"1\" class=\"dataframe\">\n",
       "  <thead>\n",
       "    <tr style=\"text-align: right;\">\n",
       "      <th></th>\n",
       "      <th>id</th>\n",
       "      <th>keyword</th>\n",
       "      <th>location</th>\n",
       "      <th>text</th>\n",
       "    </tr>\n",
       "  </thead>\n",
       "  <tbody>\n",
       "    <tr>\n",
       "      <th>0</th>\n",
       "      <td>0</td>\n",
       "      <td>NaN</td>\n",
       "      <td>NaN</td>\n",
       "      <td>Just happened a terrible car crash</td>\n",
       "    </tr>\n",
       "    <tr>\n",
       "      <th>1</th>\n",
       "      <td>2</td>\n",
       "      <td>NaN</td>\n",
       "      <td>NaN</td>\n",
       "      <td>Heard about #earthquake is different cities, s...</td>\n",
       "    </tr>\n",
       "    <tr>\n",
       "      <th>2</th>\n",
       "      <td>3</td>\n",
       "      <td>NaN</td>\n",
       "      <td>NaN</td>\n",
       "      <td>there is a forest fire at spot pond, geese are...</td>\n",
       "    </tr>\n",
       "    <tr>\n",
       "      <th>3</th>\n",
       "      <td>9</td>\n",
       "      <td>NaN</td>\n",
       "      <td>NaN</td>\n",
       "      <td>Apocalypse lighting. #Spokane #wildfires</td>\n",
       "    </tr>\n",
       "    <tr>\n",
       "      <th>4</th>\n",
       "      <td>11</td>\n",
       "      <td>NaN</td>\n",
       "      <td>NaN</td>\n",
       "      <td>Typhoon Soudelor kills 28 in China and Taiwan</td>\n",
       "    </tr>\n",
       "  </tbody>\n",
       "</table>\n",
       "</div>"
      ],
      "text/plain": [
       "   id keyword location                                               text\n",
       "0   0     NaN      NaN                 Just happened a terrible car crash\n",
       "1   2     NaN      NaN  Heard about #earthquake is different cities, s...\n",
       "2   3     NaN      NaN  there is a forest fire at spot pond, geese are...\n",
       "3   9     NaN      NaN           Apocalypse lighting. #Spokane #wildfires\n",
       "4  11     NaN      NaN      Typhoon Soudelor kills 28 in China and Taiwan"
      ]
     },
     "execution_count": 14,
     "metadata": {},
     "output_type": "execute_result"
    }
   ],
   "source": [
    "df_test = pd.read_csv(test_file,encoding='utf-8')"
   ]
  },
  {
   "cell_type": "code",
   "execution_count": 15,
>>>>>>> 1f49f1d9b388bbf613a6329e6f80c934873176b9
   "id": "9af57c19",
   "metadata": {},
   "outputs": [
    {
     "data": {
      "text/html": [
       "<div>\n",
       "<style scoped>\n",
       "    .dataframe tbody tr th:only-of-type {\n",
       "        vertical-align: middle;\n",
       "    }\n",
       "\n",
       "    .dataframe tbody tr th {\n",
       "        vertical-align: top;\n",
       "    }\n",
       "\n",
       "    .dataframe thead th {\n",
       "        text-align: right;\n",
       "    }\n",
       "</style>\n",
       "<table border=\"1\" class=\"dataframe\">\n",
       "  <thead>\n",
       "    <tr style=\"text-align: right;\">\n",
       "      <th></th>\n",
       "      <th>id</th>\n",
       "      <th>keyword</th>\n",
       "      <th>location</th>\n",
       "      <th>text</th>\n",
       "      <th>emb</th>\n",
       "    </tr>\n",
       "  </thead>\n",
       "  <tbody>\n",
       "    <tr>\n",
       "      <th>0</th>\n",
       "      <td>0</td>\n",
       "      <td>NaN</td>\n",
       "      <td>NaN</td>\n",
       "      <td>Just happened a terrible car crash</td>\n",
       "      <td>[0.014579081907868385, 0.0014145288150757551, ...</td>\n",
       "    </tr>\n",
       "    <tr>\n",
       "      <th>1</th>\n",
       "      <td>2</td>\n",
       "      <td>NaN</td>\n",
       "      <td>NaN</td>\n",
       "      <td>Heard about #earthquake is different cities, s...</td>\n",
       "      <td>[0.1095123365521431, -0.04846784099936485, 0.1...</td>\n",
       "    </tr>\n",
       "    <tr>\n",
       "      <th>2</th>\n",
       "      <td>3</td>\n",
       "      <td>NaN</td>\n",
       "      <td>NaN</td>\n",
       "      <td>there is a forest fire at spot pond, geese are...</td>\n",
       "      <td>[0.09331385791301727, 0.015875516459345818, 0....</td>\n",
       "    </tr>\n",
<<<<<<< HEAD
=======
       "    <tr>\n",
       "      <th>3</th>\n",
       "      <td>9</td>\n",
       "      <td>NaN</td>\n",
       "      <td>NaN</td>\n",
       "      <td>Apocalypse lighting. #Spokane #wildfires</td>\n",
       "      <td>[0.032564498484134674, 0.083511121571064, 0.08...</td>\n",
       "    </tr>\n",
       "    <tr>\n",
       "      <th>4</th>\n",
       "      <td>11</td>\n",
       "      <td>NaN</td>\n",
       "      <td>NaN</td>\n",
       "      <td>Typhoon Soudelor kills 28 in China and Taiwan</td>\n",
       "      <td>[0.061023157089948654, 0.0484883151948452, -0....</td>\n",
       "    </tr>\n",
>>>>>>> 1f49f1d9b388bbf613a6329e6f80c934873176b9
       "  </tbody>\n",
       "</table>\n",
       "</div>"
      ],
      "text/plain": [
       "   id keyword location                                               text  \\\n",
       "0   0     NaN      NaN                 Just happened a terrible car crash   \n",
       "1   2     NaN      NaN  Heard about #earthquake is different cities, s...   \n",
       "2   3     NaN      NaN  there is a forest fire at spot pond, geese are...   \n",
<<<<<<< HEAD
=======
       "3   9     NaN      NaN           Apocalypse lighting. #Spokane #wildfires   \n",
       "4  11     NaN      NaN      Typhoon Soudelor kills 28 in China and Taiwan   \n",
>>>>>>> 1f49f1d9b388bbf613a6329e6f80c934873176b9
       "\n",
       "                                                 emb  \n",
       "0  [0.014579081907868385, 0.0014145288150757551, ...  \n",
       "1  [0.1095123365521431, -0.04846784099936485, 0.1...  \n",
<<<<<<< HEAD
       "2  [0.09331385791301727, 0.015875516459345818, 0....  "
      ]
     },
     "execution_count": 9,
=======
       "2  [0.09331385791301727, 0.015875516459345818, 0....  \n",
       "3  [0.032564498484134674, 0.083511121571064, 0.08...  \n",
       "4  [0.061023157089948654, 0.0484883151948452, -0....  "
      ]
     },
     "execution_count": 15,
>>>>>>> 1f49f1d9b388bbf613a6329e6f80c934873176b9
     "metadata": {},
     "output_type": "execute_result"
    }
   ],
   "source": [
    "df_test['emb'] = df_test['text'].apply(lambda t: encode(t))\n",
    "df_test.head(3)"
   ]
  },
  {
   "cell_type": "markdown",
   "id": "2cee85ec",
   "metadata": {},
   "source": [
    "## build annoy"
   ]
  },
  {
   "cell_type": "code",
<<<<<<< HEAD
   "execution_count": 10,
=======
   "execution_count": 128,
   "id": "b73723a0",
   "metadata": {},
   "outputs": [
    {
     "name": "stdout",
     "output_type": "stream",
     "text": [
      "<class 'list'>\n",
      "384\n"
     ]
    }
   ],
   "source": [
    "blabla = df['emb'].to_list()\n",
    "print(type(blabla))\n",
    "print(len(blabla[0]))\n",
    "#print(blabla)"
   ]
  },
  {
   "cell_type": "code",
   "execution_count": 48,
>>>>>>> 1f49f1d9b388bbf613a6329e6f80c934873176b9
   "id": "286677e6",
   "metadata": {},
   "outputs": [],
   "source": [
    "embeddings = df['emb'].to_list()\n",
    "tweets_ids = df['id'].to_list()"
   ]
  },
  {
   "cell_type": "code",
<<<<<<< HEAD
   "execution_count": 11,
=======
   "execution_count": 24,
>>>>>>> 1f49f1d9b388bbf613a6329e6f80c934873176b9
   "id": "e9dd6408",
   "metadata": {},
   "outputs": [],
   "source": [
    "annoy_index = AnnoyIndex(embeddings_dim, 'angular')"
   ]
  },
  {
   "cell_type": "code",
<<<<<<< HEAD
   "execution_count": 12,
=======
   "execution_count": 52,
>>>>>>> 1f49f1d9b388bbf613a6329e6f80c934873176b9
   "id": "58f7a6a8",
   "metadata": {},
   "outputs": [],
   "source": [
    "for tweet_id, embedding in zip(tweets_ids,embeddings):\n",
    "    if len(embedding) != embeddings_dim:\n",
    "        print('wrong dim lenght')\n",
    "        continue\n",
    "    annoy_index.add_item(tweet_id,embedding)"
   ]
  },
  {
   "cell_type": "code",
<<<<<<< HEAD
   "execution_count": 13,
=======
   "execution_count": 53,
>>>>>>> 1f49f1d9b388bbf613a6329e6f80c934873176b9
   "id": "b9320a80",
   "metadata": {},
   "outputs": [
    {
     "data": {
      "text/plain": [
       "True"
      ]
     },
<<<<<<< HEAD
     "execution_count": 13,
=======
     "execution_count": 53,
>>>>>>> 1f49f1d9b388bbf613a6329e6f80c934873176b9
     "metadata": {},
     "output_type": "execute_result"
    }
   ],
   "source": [
    "annoy_index.build(100) #,n_jobs=-1)\n",
    "annoy_index.save('./Data/annoy_index.ann')"
   ]
  },
  {
   "cell_type": "markdown",
   "id": "851f3eb3",
   "metadata": {},
   "source": [
    "## load built annoy"
   ]
  },
  {
   "cell_type": "code",
<<<<<<< HEAD
   "execution_count": 14,
   "id": "b838e395",
   "metadata": {},
   "outputs": [
    {
     "data": {
      "text/plain": [
       "True"
      ]
     },
     "execution_count": 14,
     "metadata": {},
     "output_type": "execute_result"
    }
   ],
   "source": [
    "# annoy_index = AnnoyIndex(embeddings_dim, 'angular')\n",
    "# annoy_index.load('./Data/annoy_index.ann')"
=======
   "execution_count": null,
   "id": "b838e395",
   "metadata": {},
   "outputs": [],
   "source": [
    "annoy_index = AnnoyIndex(embeddings_dim, 'angular')\n",
    "annoy_index.load('./Data/annoy_index.ann')"
>>>>>>> 1f49f1d9b388bbf613a6329e6f80c934873176b9
   ]
  },
  {
   "cell_type": "markdown",
   "id": "ec14386e",
   "metadata": {},
   "source": [
    "## search for similarities"
   ]
  },
  {
   "cell_type": "code",
<<<<<<< HEAD
   "execution_count": 15,
   "id": "62d23977",
   "metadata": {},
   "outputs": [],
   "source": [
    "def label_tweet(testdf,targetdf):\n",
    "    \n",
    "    tweets = testdf['emb'].to_list()\n",
    "    text = testdf['text'].to_list()\n",
    "    test_ids = testdf['id'].to_list()\n",
    "    df_pred = pd.DataFrame()\n",
    "    \n",
    "    for tweet,tx,t_id in zip(tweets,text,test_ids):\n",
    "        \n",
    "        df_temp = pd.DataFrame()\n",
    "        search_res = annoy_index.get_nns_by_vector(tweet,n=1,search_k=-1,include_distances=False)\n",
    "        d = {t_id: [t_id, tx, search_res[0]]}\n",
    "        df_temp = pd.DataFrame.from_dict(d, orient = 'index', columns=['test_id','text', 'target_id'])\n",
    "        df_pred = pd.concat([df_pred,df_temp])\n",
    "    \n",
    "    \n",
    "    df_pred = df_pred.merge(targetdf[['id','target']], right_on='id', left_on='target_id', how='left')\n",
    "                            \n",
    "    #mergedf = targetdf[['id','target']]\n",
    "    \n",
    "    return df_pred"
   ]
  },
  {
   "cell_type": "code",
   "execution_count": 16,
   "id": "4c5cdb36",
   "metadata": {},
   "outputs": [],
   "source": [
    "df_pred = label_tweet(df_test,df)"
=======
   "execution_count": 78,
   "id": "858b2526",
   "metadata": {},
   "outputs": [],
   "source": [
    "test_tweets = df_test['emb'].to_list()\n",
    "id_test = df_test['id'].to_list()"
>>>>>>> 1f49f1d9b388bbf613a6329e6f80c934873176b9
   ]
  },
  {
   "cell_type": "code",
<<<<<<< HEAD
   "execution_count": 17,
   "id": "323a3914",
=======
   "execution_count": 79,
   "id": "e85f97cd",
>>>>>>> 1f49f1d9b388bbf613a6329e6f80c934873176b9
   "metadata": {},
   "outputs": [
    {
     "data": {
      "text/html": [
       "<div>\n",
       "<style scoped>\n",
       "    .dataframe tbody tr th:only-of-type {\n",
       "        vertical-align: middle;\n",
       "    }\n",
       "\n",
       "    .dataframe tbody tr th {\n",
       "        vertical-align: top;\n",
       "    }\n",
       "\n",
       "    .dataframe thead th {\n",
       "        text-align: right;\n",
       "    }\n",
       "</style>\n",
       "<table border=\"1\" class=\"dataframe\">\n",
       "  <thead>\n",
       "    <tr style=\"text-align: right;\">\n",
       "      <th></th>\n",
<<<<<<< HEAD
       "      <th>test_id</th>\n",
       "      <th>text</th>\n",
       "      <th>target_id</th>\n",
       "      <th>id</th>\n",
       "      <th>target</th>\n",
=======
       "      <th>id_train</th>\n",
>>>>>>> 1f49f1d9b388bbf613a6329e6f80c934873176b9
       "    </tr>\n",
       "  </thead>\n",
       "  <tbody>\n",
       "    <tr>\n",
       "      <th>0</th>\n",
<<<<<<< HEAD
       "      <td>0</td>\n",
       "      <td>Just happened a terrible car crash</td>\n",
       "      <td>118</td>\n",
       "      <td>118</td>\n",
       "      <td>1</td>\n",
       "    </tr>\n",
       "    <tr>\n",
       "      <th>1</th>\n",
       "      <td>2</td>\n",
       "      <td>Heard about #earthquake is different cities, s...</td>\n",
       "      <td>4397</td>\n",
       "      <td>4397</td>\n",
       "      <td>1</td>\n",
       "    </tr>\n",
       "    <tr>\n",
       "      <th>2</th>\n",
       "      <td>3</td>\n",
       "      <td>there is a forest fire at spot pond, geese are...</td>\n",
       "      <td>10481</td>\n",
       "      <td>10481</td>\n",
       "      <td>1</td>\n",
       "    </tr>\n",
       "    <tr>\n",
       "      <th>3</th>\n",
       "      <td>9</td>\n",
       "      <td>Apocalypse lighting. #Spokane #wildfires</td>\n",
       "      <td>10511</td>\n",
       "      <td>10511</td>\n",
       "      <td>1</td>\n",
       "    </tr>\n",
       "    <tr>\n",
       "      <th>4</th>\n",
       "      <td>11</td>\n",
       "      <td>Typhoon Soudelor kills 28 in China and Taiwan</td>\n",
       "      <td>2991</td>\n",
       "      <td>2991</td>\n",
       "      <td>1</td>\n",
=======
       "      <td>118</td>\n",
       "    </tr>\n",
       "    <tr>\n",
       "      <th>2</th>\n",
       "      <td>4397</td>\n",
       "    </tr>\n",
       "    <tr>\n",
       "      <th>3</th>\n",
       "      <td>10481</td>\n",
       "    </tr>\n",
       "    <tr>\n",
       "      <th>9</th>\n",
       "      <td>10511</td>\n",
       "    </tr>\n",
       "    <tr>\n",
       "      <th>11</th>\n",
       "      <td>2991</td>\n",
>>>>>>> 1f49f1d9b388bbf613a6329e6f80c934873176b9
       "    </tr>\n",
       "  </tbody>\n",
       "</table>\n",
       "</div>"
      ],
      "text/plain": [
<<<<<<< HEAD
       "   test_id                                               text  target_id  \\\n",
       "0        0                 Just happened a terrible car crash        118   \n",
       "1        2  Heard about #earthquake is different cities, s...       4397   \n",
       "2        3  there is a forest fire at spot pond, geese are...      10481   \n",
       "3        9           Apocalypse lighting. #Spokane #wildfires      10511   \n",
       "4       11      Typhoon Soudelor kills 28 in China and Taiwan       2991   \n",
       "\n",
       "      id  target  \n",
       "0    118       1  \n",
       "1   4397       1  \n",
       "2  10481       1  \n",
       "3  10511       1  \n",
       "4   2991       1  "
      ]
     },
     "execution_count": 17,
=======
       "    id_train\n",
       "0        118\n",
       "2       4397\n",
       "3      10481\n",
       "9      10511\n",
       "11      2991"
      ]
     },
     "execution_count": 79,
>>>>>>> 1f49f1d9b388bbf613a6329e6f80c934873176b9
     "metadata": {},
     "output_type": "execute_result"
    }
   ],
   "source": [
<<<<<<< HEAD
    "df_pred.head()"
   ]
  },
  {
   "cell_type": "markdown",
   "id": "793bf4e3",
   "metadata": {},
   "source": [
    "## <font color = 'dark green'> metrics"
   ]
  },
  {
   "cell_type": "code",
   "execution_count": 18,
   "id": "364d4e0f",
   "metadata": {},
   "outputs": [],
   "source": [
    "y_pred = df_pred['target']\n",
    "y = df_true['target']"
=======
    "df_full = pd.DataFrame()\n",
    "\n",
    "for item,id_test in zip(test_tweets,id_test):\n",
    "    search_res = annoy_index.get_nns_by_vector(item,n=1,search_k=-1,include_distances=False)\n",
    "    \n",
    "    df_id = pd.DataFrame()\n",
    "    d = {id_test: search_res[0]}\n",
    "    df_id = pd.DataFrame.from_dict(d, orient = 'index', columns=['id_train'])\n",
    "    df_full = pd.concat([df_full,df_id])\n",
    "\n",
    "df_full.head()"
>>>>>>> 1f49f1d9b388bbf613a6329e6f80c934873176b9
   ]
  },
  {
   "cell_type": "code",
<<<<<<< HEAD
   "execution_count": 19,
   "id": "343c37c4",
   "metadata": {},
   "outputs": [],
   "source": [
    "from sklearn.metrics import confusion_matrix, ConfusionMatrixDisplay\n",
    "from sklearn.metrics import accuracy_score, recall_score, precision_score, f1_score\n",
    "from sklearn import metrics"
=======
   "execution_count": 80,
   "id": "e86537e4",
   "metadata": {},
   "outputs": [],
   "source": [
    "df_test = df_test.merge(df_full,how='left',left_on='id',right_index=True)"
>>>>>>> 1f49f1d9b388bbf613a6329e6f80c934873176b9
   ]
  },
  {
   "cell_type": "code",
<<<<<<< HEAD
   "execution_count": 20,
   "id": "029d1d79",
   "metadata": {},
   "outputs": [
    {
     "name": "stdout",
     "output_type": "stream",
     "text": [
      "Accuracy  0.7704566349984676\n",
      "F1        0.7673342831044665\n",
      "Precision 0.7662606923409123\n",
      "Recall    0.7693852568028632\n"
     ]
    }
   ],
   "source": [
    "accuracy = accuracy_score(y,y_pred)\n",
    "f1 = f1_score(y,y_pred,average='macro')\n",
    "precision = precision_score(y,y_pred,average='macro')\n",
    "recall = recall_score(y,y_pred,average='macro')\n",
    "\n",
    "print(f'Accuracy  {accuracy}')\n",
    "print(f'F1        {f1}')\n",
    "print(f'Precision {precision}')\n",
    "print(f'Recall    {recall}')"
   ]
  },
  {
   "cell_type": "code",
   "execution_count": 21,
   "id": "0b28603d",
=======
   "execution_count": 81,
   "id": "67b2fa4d",
   "metadata": {},
   "outputs": [
    {
     "data": {
      "text/html": [
       "<div>\n",
       "<style scoped>\n",
       "    .dataframe tbody tr th:only-of-type {\n",
       "        vertical-align: middle;\n",
       "    }\n",
       "\n",
       "    .dataframe tbody tr th {\n",
       "        vertical-align: top;\n",
       "    }\n",
       "\n",
       "    .dataframe thead th {\n",
       "        text-align: right;\n",
       "    }\n",
       "</style>\n",
       "<table border=\"1\" class=\"dataframe\">\n",
       "  <thead>\n",
       "    <tr style=\"text-align: right;\">\n",
       "      <th></th>\n",
       "      <th>id</th>\n",
       "      <th>keyword</th>\n",
       "      <th>location</th>\n",
       "      <th>text</th>\n",
       "      <th>emb</th>\n",
       "      <th>id_train</th>\n",
       "    </tr>\n",
       "  </thead>\n",
       "  <tbody>\n",
       "    <tr>\n",
       "      <th>0</th>\n",
       "      <td>0</td>\n",
       "      <td>NaN</td>\n",
       "      <td>NaN</td>\n",
       "      <td>Just happened a terrible car crash</td>\n",
       "      <td>[0.014579081907868385, 0.0014145288150757551, ...</td>\n",
       "      <td>118</td>\n",
       "    </tr>\n",
       "    <tr>\n",
       "      <th>1</th>\n",
       "      <td>2</td>\n",
       "      <td>NaN</td>\n",
       "      <td>NaN</td>\n",
       "      <td>Heard about #earthquake is different cities, s...</td>\n",
       "      <td>[0.1095123365521431, -0.04846784099936485, 0.1...</td>\n",
       "      <td>4397</td>\n",
       "    </tr>\n",
       "    <tr>\n",
       "      <th>2</th>\n",
       "      <td>3</td>\n",
       "      <td>NaN</td>\n",
       "      <td>NaN</td>\n",
       "      <td>there is a forest fire at spot pond, geese are...</td>\n",
       "      <td>[0.09331385791301727, 0.015875516459345818, 0....</td>\n",
       "      <td>10481</td>\n",
       "    </tr>\n",
       "    <tr>\n",
       "      <th>3</th>\n",
       "      <td>9</td>\n",
       "      <td>NaN</td>\n",
       "      <td>NaN</td>\n",
       "      <td>Apocalypse lighting. #Spokane #wildfires</td>\n",
       "      <td>[0.032564498484134674, 0.083511121571064, 0.08...</td>\n",
       "      <td>10511</td>\n",
       "    </tr>\n",
       "    <tr>\n",
       "      <th>4</th>\n",
       "      <td>11</td>\n",
       "      <td>NaN</td>\n",
       "      <td>NaN</td>\n",
       "      <td>Typhoon Soudelor kills 28 in China and Taiwan</td>\n",
       "      <td>[0.061023157089948654, 0.0484883151948452, -0....</td>\n",
       "      <td>2991</td>\n",
       "    </tr>\n",
       "  </tbody>\n",
       "</table>\n",
       "</div>"
      ],
      "text/plain": [
       "   id keyword location                                               text  \\\n",
       "0   0     NaN      NaN                 Just happened a terrible car crash   \n",
       "1   2     NaN      NaN  Heard about #earthquake is different cities, s...   \n",
       "2   3     NaN      NaN  there is a forest fire at spot pond, geese are...   \n",
       "3   9     NaN      NaN           Apocalypse lighting. #Spokane #wildfires   \n",
       "4  11     NaN      NaN      Typhoon Soudelor kills 28 in China and Taiwan   \n",
       "\n",
       "                                                 emb  id_train  \n",
       "0  [0.014579081907868385, 0.0014145288150757551, ...       118  \n",
       "1  [0.1095123365521431, -0.04846784099936485, 0.1...      4397  \n",
       "2  [0.09331385791301727, 0.015875516459345818, 0....     10481  \n",
       "3  [0.032564498484134674, 0.083511121571064, 0.08...     10511  \n",
       "4  [0.061023157089948654, 0.0484883151948452, -0....      2991  "
      ]
     },
     "execution_count": 81,
     "metadata": {},
     "output_type": "execute_result"
    }
   ],
   "source": [
    "df_test.head()"
   ]
  },
  {
   "cell_type": "code",
   "execution_count": 88,
   "id": "722bf11c",
   "metadata": {},
   "outputs": [],
   "source": [
    "df_target = df[['id','target']]\n",
    "              \n"
   ]
  },
  {
   "cell_type": "code",
   "execution_count": 89,
   "id": "3e425f33",
   "metadata": {},
   "outputs": [
    {
     "data": {
      "text/html": [
       "<div>\n",
       "<style scoped>\n",
       "    .dataframe tbody tr th:only-of-type {\n",
       "        vertical-align: middle;\n",
       "    }\n",
       "\n",
       "    .dataframe tbody tr th {\n",
       "        vertical-align: top;\n",
       "    }\n",
       "\n",
       "    .dataframe thead th {\n",
       "        text-align: right;\n",
       "    }\n",
       "</style>\n",
       "<table border=\"1\" class=\"dataframe\">\n",
       "  <thead>\n",
       "    <tr style=\"text-align: right;\">\n",
       "      <th></th>\n",
       "      <th>id</th>\n",
       "      <th>target</th>\n",
       "    </tr>\n",
       "  </thead>\n",
       "  <tbody>\n",
       "    <tr>\n",
       "      <th>0</th>\n",
       "      <td>1</td>\n",
       "      <td>1</td>\n",
       "    </tr>\n",
       "    <tr>\n",
       "      <th>1</th>\n",
       "      <td>4</td>\n",
       "      <td>1</td>\n",
       "    </tr>\n",
       "    <tr>\n",
       "      <th>2</th>\n",
       "      <td>5</td>\n",
       "      <td>1</td>\n",
       "    </tr>\n",
       "    <tr>\n",
       "      <th>3</th>\n",
       "      <td>6</td>\n",
       "      <td>1</td>\n",
       "    </tr>\n",
       "    <tr>\n",
       "      <th>4</th>\n",
       "      <td>7</td>\n",
       "      <td>1</td>\n",
       "    </tr>\n",
       "  </tbody>\n",
       "</table>\n",
       "</div>"
      ],
      "text/plain": [
       "   id  target\n",
       "0   1       1\n",
       "1   4       1\n",
       "2   5       1\n",
       "3   6       1\n",
       "4   7       1"
      ]
     },
     "execution_count": 89,
     "metadata": {},
     "output_type": "execute_result"
    }
   ],
   "source": [
    "df_target.head()"
   ]
  },
  {
   "cell_type": "code",
   "execution_count": 90,
   "id": "293ab7cb",
   "metadata": {},
   "outputs": [
    {
     "data": {
      "text/html": [
       "<div>\n",
       "<style scoped>\n",
       "    .dataframe tbody tr th:only-of-type {\n",
       "        vertical-align: middle;\n",
       "    }\n",
       "\n",
       "    .dataframe tbody tr th {\n",
       "        vertical-align: top;\n",
       "    }\n",
       "\n",
       "    .dataframe thead th {\n",
       "        text-align: right;\n",
       "    }\n",
       "</style>\n",
       "<table border=\"1\" class=\"dataframe\">\n",
       "  <thead>\n",
       "    <tr style=\"text-align: right;\">\n",
       "      <th></th>\n",
       "      <th>id_x</th>\n",
       "      <th>keyword</th>\n",
       "      <th>location</th>\n",
       "      <th>text</th>\n",
       "      <th>emb</th>\n",
       "      <th>id_train</th>\n",
       "      <th>id_y</th>\n",
       "      <th>target</th>\n",
       "    </tr>\n",
       "  </thead>\n",
       "  <tbody>\n",
       "    <tr>\n",
       "      <th>0</th>\n",
       "      <td>0</td>\n",
       "      <td>NaN</td>\n",
       "      <td>NaN</td>\n",
       "      <td>Just happened a terrible car crash</td>\n",
       "      <td>[0.014579081907868385, 0.0014145288150757551, ...</td>\n",
       "      <td>118</td>\n",
       "      <td>118</td>\n",
       "      <td>1</td>\n",
       "    </tr>\n",
       "    <tr>\n",
       "      <th>1</th>\n",
       "      <td>2</td>\n",
       "      <td>NaN</td>\n",
       "      <td>NaN</td>\n",
       "      <td>Heard about #earthquake is different cities, s...</td>\n",
       "      <td>[0.1095123365521431, -0.04846784099936485, 0.1...</td>\n",
       "      <td>4397</td>\n",
       "      <td>4397</td>\n",
       "      <td>1</td>\n",
       "    </tr>\n",
       "    <tr>\n",
       "      <th>2</th>\n",
       "      <td>3</td>\n",
       "      <td>NaN</td>\n",
       "      <td>NaN</td>\n",
       "      <td>there is a forest fire at spot pond, geese are...</td>\n",
       "      <td>[0.09331385791301727, 0.015875516459345818, 0....</td>\n",
       "      <td>10481</td>\n",
       "      <td>10481</td>\n",
       "      <td>1</td>\n",
       "    </tr>\n",
       "    <tr>\n",
       "      <th>3</th>\n",
       "      <td>9</td>\n",
       "      <td>NaN</td>\n",
       "      <td>NaN</td>\n",
       "      <td>Apocalypse lighting. #Spokane #wildfires</td>\n",
       "      <td>[0.032564498484134674, 0.083511121571064, 0.08...</td>\n",
       "      <td>10511</td>\n",
       "      <td>10511</td>\n",
       "      <td>1</td>\n",
       "    </tr>\n",
       "    <tr>\n",
       "      <th>4</th>\n",
       "      <td>11</td>\n",
       "      <td>NaN</td>\n",
       "      <td>NaN</td>\n",
       "      <td>Typhoon Soudelor kills 28 in China and Taiwan</td>\n",
       "      <td>[0.061023157089948654, 0.0484883151948452, -0....</td>\n",
       "      <td>2991</td>\n",
       "      <td>2991</td>\n",
       "      <td>1</td>\n",
       "    </tr>\n",
       "  </tbody>\n",
       "</table>\n",
       "</div>"
      ],
      "text/plain": [
       "   id_x keyword location                                               text  \\\n",
       "0     0     NaN      NaN                 Just happened a terrible car crash   \n",
       "1     2     NaN      NaN  Heard about #earthquake is different cities, s...   \n",
       "2     3     NaN      NaN  there is a forest fire at spot pond, geese are...   \n",
       "3     9     NaN      NaN           Apocalypse lighting. #Spokane #wildfires   \n",
       "4    11     NaN      NaN      Typhoon Soudelor kills 28 in China and Taiwan   \n",
       "\n",
       "                                                 emb  id_train   id_y  target  \n",
       "0  [0.014579081907868385, 0.0014145288150757551, ...       118    118       1  \n",
       "1  [0.1095123365521431, -0.04846784099936485, 0.1...      4397   4397       1  \n",
       "2  [0.09331385791301727, 0.015875516459345818, 0....     10481  10481       1  \n",
       "3  [0.032564498484134674, 0.083511121571064, 0.08...     10511  10511       1  \n",
       "4  [0.061023157089948654, 0.0484883151948452, -0....      2991   2991       1  "
      ]
     },
     "execution_count": 90,
     "metadata": {},
     "output_type": "execute_result"
    }
   ],
   "source": [
    "df_test = df_test.merge(df_target,how='left',left_on='id_train', right_on='id')\n",
    "df_test.head()"
   ]
  },
  {
   "cell_type": "code",
   "execution_count": 103,
   "id": "46720b6d",
   "metadata": {},
   "outputs": [
    {
     "data": {
      "text/plain": [
       "0    1780\n",
       "1    1483\n",
       "Name: target, dtype: int64"
      ]
     },
     "execution_count": 103,
     "metadata": {},
     "output_type": "execute_result"
    }
   ],
   "source": [
    "y_pred = df_test['target']\n",
    "y_pred.value_counts()"
   ]
  },
  {
   "cell_type": "code",
   "execution_count": 100,
   "id": "92cf19fa",
   "metadata": {},
   "outputs": [
    {
     "data": {
      "text/html": [
       "<div>\n",
       "<style scoped>\n",
       "    .dataframe tbody tr th:only-of-type {\n",
       "        vertical-align: middle;\n",
       "    }\n",
       "\n",
       "    .dataframe tbody tr th {\n",
       "        vertical-align: top;\n",
       "    }\n",
       "\n",
       "    .dataframe thead th {\n",
       "        text-align: right;\n",
       "    }\n",
       "</style>\n",
       "<table border=\"1\" class=\"dataframe\">\n",
       "  <thead>\n",
       "    <tr style=\"text-align: right;\">\n",
       "      <th></th>\n",
       "      <th>id</th>\n",
       "      <th>target</th>\n",
       "    </tr>\n",
       "  </thead>\n",
       "  <tbody>\n",
       "    <tr>\n",
       "      <th>0</th>\n",
       "      <td>0</td>\n",
       "      <td>1</td>\n",
       "    </tr>\n",
       "    <tr>\n",
       "      <th>1</th>\n",
       "      <td>2</td>\n",
       "      <td>1</td>\n",
       "    </tr>\n",
       "    <tr>\n",
       "      <th>2</th>\n",
       "      <td>3</td>\n",
       "      <td>1</td>\n",
       "    </tr>\n",
       "    <tr>\n",
       "      <th>3</th>\n",
       "      <td>9</td>\n",
       "      <td>1</td>\n",
       "    </tr>\n",
       "    <tr>\n",
       "      <th>4</th>\n",
       "      <td>11</td>\n",
       "      <td>1</td>\n",
       "    </tr>\n",
       "  </tbody>\n",
       "</table>\n",
       "</div>"
      ],
      "text/plain": [
       "   id  target\n",
       "0   0       1\n",
       "1   2       1\n",
       "2   3       1\n",
       "3   9       1\n",
       "4  11       1"
      ]
     },
     "execution_count": 100,
     "metadata": {},
     "output_type": "execute_result"
    }
   ],
   "source": [
    "df_to_test = pd.read_csv('./Data/submission.csv', encoding='utf-8')\n",
    "df_to_test.head()"
   ]
  },
  {
   "cell_type": "code",
   "execution_count": 102,
   "id": "8b4f5664",
   "metadata": {},
   "outputs": [
    {
     "data": {
      "text/plain": [
       "0    1861\n",
       "1    1402\n",
       "Name: target, dtype: int64"
      ]
     },
     "execution_count": 102,
     "metadata": {},
     "output_type": "execute_result"
    }
   ],
   "source": [
    "y = df_to_test['target']\n",
    "y.value_counts()"
   ]
  },
  {
   "cell_type": "code",
   "execution_count": 112,
   "id": "d96539f9",
   "metadata": {},
   "outputs": [],
   "source": [
    "from sklearn.metrics import confusion_matrix, ConfusionMatrixDisplay\n",
    "from sklearn.metrics import accuracy_score, recall_score, precision_score, f1_score\n",
    "from sklearn import metrics"
   ]
  },
  {
   "cell_type": "code",
   "execution_count": 105,
   "id": "f3c80acb",
   "metadata": {},
   "outputs": [
    {
     "name": "stdout",
     "output_type": "stream",
     "text": [
      "Accuracy  0.7704566349984676\n",
      "F1        0.7711257104043251\n",
      "Precision 0.7727453309934978\n",
      "Recall    0.7704566349984676\n"
     ]
    }
   ],
   "source": [
    "accuracy = accuracy_score(y,y_pred)\n",
    "f1 = f1_score(y,y_pred,average='weighted')\n",
    "precision = precision_score(y,y_pred,average='weighted')\n",
    "recall = recall_score(y,y_pred,average='weighted')\n",
    "\n",
    "print(f'Accuracy  {accuracy}')\n",
    "print(f'F1        {f1}')\n",
    "print(f'Precision {precision}')\n",
    "print(f'Recall    {recall}')"
   ]
  },
  {
   "cell_type": "code",
   "execution_count": 106,
   "id": "44d8a748",
>>>>>>> 1f49f1d9b388bbf613a6329e6f80c934873176b9
   "metadata": {},
   "outputs": [
    {
     "name": "stdout",
     "output_type": "stream",
     "text": [
      "              precision    recall  f1-score   support\n",
      "\n",
      "           0       0.81      0.78      0.79      1861\n",
      "           1       0.72      0.76      0.74      1402\n",
      "\n",
      "    accuracy                           0.77      3263\n",
      "   macro avg       0.77      0.77      0.77      3263\n",
      "weighted avg       0.77      0.77      0.77      3263\n",
      "\n"
     ]
    }
   ],
   "source": [
    "print(metrics.classification_report(y, y_pred))"
   ]
  },
  {
   "cell_type": "code",
<<<<<<< HEAD
   "execution_count": 22,
   "id": "2a42b6c5",
=======
   "execution_count": 114,
   "id": "6443a2ff",
>>>>>>> 1f49f1d9b388bbf613a6329e6f80c934873176b9
   "metadata": {},
   "outputs": [
    {
     "data": {
      "image/png": "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\n",
      "text/plain": [
       "<Figure size 432x288 with 2 Axes>"
      ]
     },
     "metadata": {
      "needs_background": "light"
     },
     "output_type": "display_data"
    }
   ],
   "source": [
    "cm = confusion_matrix(y, y_pred)\n",
    "disp = ConfusionMatrixDisplay(confusion_matrix=cm)\n",
    "disp.plot()\n",
    "plt.show();"
   ]
  },
  {
   "cell_type": "code",
<<<<<<< HEAD
   "execution_count": 23,
   "id": "eb23070f",
=======
   "execution_count": 115,
   "id": "f1c90a63",
>>>>>>> 1f49f1d9b388bbf613a6329e6f80c934873176b9
   "metadata": {},
   "outputs": [
    {
     "data": {
      "image/png": "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\n",
      "text/plain": [
       "<Figure size 432x288 with 2 Axes>"
      ]
     },
     "metadata": {
      "needs_background": "light"
     },
     "output_type": "display_data"
    }
   ],
   "source": [
    "cm = confusion_matrix(y, y_pred, normalize='all')\n",
    "disp = ConfusionMatrixDisplay(confusion_matrix=cm)\n",
    "disp.plot()\n",
    "plt.show();"
   ]
  },
  {
   "cell_type": "code",
   "execution_count": null,
<<<<<<< HEAD
   "id": "709a1a1f",
   "metadata": {},
   "outputs": [],
   "source": []
  },
  {
   "cell_type": "code",
   "execution_count": null,
   "id": "29b4638a",
   "metadata": {},
   "outputs": [],
   "source": []
  },
  {
   "cell_type": "code",
   "execution_count": null,
   "id": "976e63dc",
   "metadata": {},
   "outputs": [],
   "source": []
  },
  {
   "cell_type": "code",
   "execution_count": null,
   "id": "210947d3",
   "metadata": {},
   "outputs": [],
   "source": []
  },
  {
   "cell_type": "code",
   "execution_count": null,
   "id": "f8cb286c",
   "metadata": {},
   "outputs": [],
   "source": []
  },
  {
   "cell_type": "code",
   "execution_count": null,
=======
>>>>>>> 1f49f1d9b388bbf613a6329e6f80c934873176b9
   "id": "02af7f67",
   "metadata": {},
   "outputs": [],
   "source": []
  }
 ],
 "metadata": {
  "kernelspec": {
   "display_name": "Python 3 (ipykernel)",
   "language": "python",
   "name": "python3"
  },
  "language_info": {
   "codemirror_mode": {
    "name": "ipython",
    "version": 3
   },
   "file_extension": ".py",
   "mimetype": "text/x-python",
   "name": "python",
   "nbconvert_exporter": "python",
   "pygments_lexer": "ipython3",
   "version": "3.7.4"
  }
 },
 "nbformat": 4,
 "nbformat_minor": 5
}
